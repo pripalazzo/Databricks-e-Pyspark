{
  "cells": [
    {
      "cell_type": "markdown",
      "metadata": {
        "id": "view-in-github",
        "colab_type": "text"
      },
      "source": [
        "<a href=\"https://colab.research.google.com/github/pripalazzo/Iniciacao_Pyspark/blob/main/Desafio_bootcamp_PySpark.ipynb\" target=\"_parent\"><img src=\"https://colab.research.google.com/assets/colab-badge.svg\" alt=\"Open In Colab\"/></a>"
      ]
    },
    {
      "cell_type": "markdown",
      "source": [
        "Desafio Módulo 3 - Bootcamp IGTI\n",
        "\n",
        "* jul/22"
      ],
      "metadata": {
        "id": "CGTEDIwnLogs"
      }
    },
    {
      "cell_type": "markdown",
      "source": [
        "Melhor visualização no Databrincks\n",
        "\n",
        "https://databricks-prod-cloudfront.cloud.databricks.com/public/4027ec902e239c93eaaa8714f173bcfc/50077601621231/30266101211947/8198392709519975/latest.html\n"
      ],
      "metadata": {
        "id": "Vb1FeOie3om4"
      }
    },
    {
      "cell_type": "code",
      "source": [
        "# ** Iniciando Seção Spark **\n",
        "from pyspark.sql import SparkSession #importa a biblioteca que cria a seção do spark"
      ],
      "metadata": {
        "id": "bHZK4cV33om8",
        "outputId": "42700768-c25e-42ce-ad81-98e60afbe5ab"
      },
      "outputs": [
        {
          "metadata": {},
          "output_type": "display_data",
          "data": {
            "text/html": [
              "<style scoped>\n  .ansiout {\n    display: block;\n    unicode-bidi: embed;\n    white-space: pre-wrap;\n    word-wrap: break-word;\n    word-break: break-all;\n    font-family: \"Source Code Pro\", \"Menlo\", monospace;;\n    font-size: 13px;\n    color: #555;\n    margin-left: 4px;\n    line-height: 19px;\n  }\n</style>\n<div class=\"ansiout\"></div>"
            ]
          }
        }
      ],
      "execution_count": null
    },
    {
      "cell_type": "code",
      "source": [
        "#inicia a seção para a utilização do spark\n",
        "spark = SparkSession.builder.appName(\"desafio_tpd\").getOrCreate() #cria a seção caso não exista ou obtém a já criada"
      ],
      "metadata": {
        "id": "iUzNa51n3om_",
        "outputId": "d8b2dfed-0905-41d0-9700-b35b9c5b33e0"
      },
      "outputs": [
        {
          "metadata": {},
          "output_type": "display_data",
          "data": {
            "text/html": [
              "<style scoped>\n  .ansiout {\n    display: block;\n    unicode-bidi: embed;\n    white-space: pre-wrap;\n    word-wrap: break-word;\n    word-break: break-all;\n    font-family: \"Source Code Pro\", \"Menlo\", monospace;;\n    font-size: 13px;\n    color: #555;\n    margin-left: 4px;\n    line-height: 19px;\n  }\n</style>\n<div class=\"ansiout\"></div>"
            ]
          }
        }
      ],
      "execution_count": null
    },
    {
      "cell_type": "code",
      "source": [
        "%fs ls /FileStore/tables    "
      ],
      "metadata": {
        "id": "1Yb6Dmsh3onB",
        "outputId": "090bb4fc-16a9-4788-cc66-b4a735f665e0"
      },
      "outputs": [
        {
          "metadata": {},
          "output_type": "display_data",
          "data": {
            "text/html": [
              "<style scoped>\n  .table-result-container {\n    max-height: 300px;\n    overflow: auto;\n  }\n  table, th, td {\n    border: 1px solid black;\n    border-collapse: collapse;\n  }\n  th, td {\n    padding: 5px;\n  }\n  th {\n    text-align: left;\n  }\n</style><div class='table-result-container'><table class='table-result'><thead style='background-color: white'><tr><th>path</th><th>name</th><th>size</th></tr></thead><tbody><tr><td>dbfs:/FileStore/tables/Mall_Customers.csv</td><td>Mall_Customers.csv</td><td>4286</td></tr><tr><td>dbfs:/FileStore/tables/Police_Department_Incident_Reports__Historical_2003_to_May_2018.csv</td><td>Police_Department_Incident_Reports__Historical_2003_to_May_2018.csv</td><td>463094961</td></tr><tr><td>dbfs:/FileStore/tables/Webinar_MLE_04_06.pptx</td><td>Webinar_MLE_04_06.pptx</td><td>5268055</td></tr><tr><td>dbfs:/FileStore/tables/adult_data.csv</td><td>adult_data.csv</td><td>5608318</td></tr><tr><td>dbfs:/FileStore/tables/d1995_07_01-24d0c.json</td><td>d1995_07_01-24d0c.json</td><td>7451741</td></tr><tr><td>dbfs:/FileStore/tables/d1995_07_02-c3f44.json</td><td>d1995_07_02-c3f44.json</td><td>9572086</td></tr><tr><td>dbfs:/FileStore/tables/d1995_07_03-f99af.json</td><td>d1995_07_03-f99af.json</td><td>14125303</td></tr><tr><td>dbfs:/FileStore/tables/d1995_07_04-c5a7f.json</td><td>d1995_07_04-c5a7f.json</td><td>12030333</td></tr><tr><td>dbfs:/FileStore/tables/d1995_07_05-0f261.json</td><td>d1995_07_05-0f261.json</td><td>14662194</td></tr><tr><td>dbfs:/FileStore/tables/d1995_07_06-20619.json</td><td>d1995_07_06-20619.json</td><td>15557682</td></tr><tr><td>dbfs:/FileStore/tables/d1995_07_07-2dd8d.json</td><td>d1995_07_07-2dd8d.json</td><td>15279295</td></tr><tr><td>dbfs:/FileStore/tables/d1995_07_08-83302.json</td><td>d1995_07_08-83302.json</td><td>7033852</td></tr><tr><td>dbfs:/FileStore/tables/d1995_07_09-f75d3.json</td><td>d1995_07_09-f75d3.json</td><td>5589076</td></tr><tr><td>dbfs:/FileStore/tables/d1995_07_10-160a3.json</td><td>d1995_07_10-160a3.json</td><td>10616482</td></tr><tr><td>dbfs:/FileStore/tables/d1995_07_11-8800f.json</td><td>d1995_07_11-8800f.json</td><td>12486245</td></tr><tr><td>dbfs:/FileStore/tables/d1995_07_12-3091c.json</td><td>d1995_07_12-3091c.json</td><td>14080494</td></tr><tr><td>dbfs:/FileStore/tables/d1995_07_13-242b2.json</td><td>d1995_07_13-242b2.json</td><td>21989188</td></tr><tr><td>dbfs:/FileStore/tables/d1995_07_14-bab67.json</td><td>d1995_07_14-bab67.json</td><td>13780636</td></tr><tr><td>dbfs:/FileStore/tables/d1995_07_15-57e08.json</td><td>d1995_07_15-57e08.json</td><td>8057272</td></tr><tr><td>dbfs:/FileStore/tables/d1995_07_16-2ca03.json</td><td>d1995_07_16-2ca03.json</td><td>7171848</td></tr><tr><td>dbfs:/FileStore/tables/d1995_07_17-905a5.json</td><td>d1995_07_17-905a5.json</td><td>11897536</td></tr><tr><td>dbfs:/FileStore/tables/d1995_07_18-13b8b.json</td><td>d1995_07_18-13b8b.json</td><td>10569098</td></tr><tr><td>dbfs:/FileStore/tables/d1995_07_19-e2537.json</td><td>d1995_07_19-e2537.json</td><td>11515206</td></tr><tr><td>dbfs:/FileStore/tables/d1995_07_20-0f6d2.json</td><td>d1995_07_20-0f6d2.json</td><td>11049142</td></tr><tr><td>dbfs:/FileStore/tables/d1995_07_21-37a88.json</td><td>d1995_07_21-37a88.json</td><td>10475868</td></tr><tr><td>dbfs:/FileStore/tables/d1995_07_22-3b894.json</td><td>d1995_07_22-3b894.json</td><td>6028420</td></tr><tr><td>dbfs:/FileStore/tables/d1995_07_23-8d606.json</td><td>d1995_07_23-8d606.json</td><td>5620028</td></tr><tr><td>dbfs:/FileStore/tables/d1995_07_24-bcae5.json</td><td>d1995_07_24-bcae5.json</td><td>10433367</td></tr><tr><td>dbfs:/FileStore/tables/d1995_07_25-22c14.json</td><td>d1995_07_25-22c14.json</td><td>9883055</td></tr><tr><td>dbfs:/FileStore/tables/d1995_07_26-8a504.json</td><td>d1995_07_26-8a504.json</td><td>9087395</td></tr><tr><td>dbfs:/FileStore/tables/d1995_07_27-32f69.json</td><td>d1995_07_27-32f69.json</td><td>10172162</td></tr><tr><td>dbfs:/FileStore/tables/d1995_07_28-8d6d2.json</td><td>d1995_07_28-8d6d2.json</td><td>6206927</td></tr><tr><td>dbfs:/FileStore/tables/datasets_228_482_diabetes.csv</td><td>datasets_228_482_diabetes.csv</td><td>23873</td></tr><tr><td>dbfs:/FileStore/tables/designation.json</td><td>designation.json</td><td>400</td></tr><tr><td>dbfs:/FileStore/tables/digits.csv</td><td>digits.csv</td><td>338477</td></tr><tr><td>dbfs:/FileStore/tables/digitsNew.csv</td><td>digitsNew.csv</td><td>76775041</td></tr><tr><td>dbfs:/FileStore/tables/iris_bezdekIris.csv</td><td>iris_bezdekIris.csv</td><td>4551</td></tr><tr><td>dbfs:/FileStore/tables/kddcup_data_10_percent_corrected-2f6f3</td><td>kddcup_data_10_percent_corrected-2f6f3</td><td>74889749</td></tr><tr><td>dbfs:/FileStore/tables/regressaoLinear.csv</td><td>regressaoLinear.csv</td><td>564</td></tr><tr><td>dbfs:/FileStore/tables/salario_df.csv</td><td>salario_df.csv</td><td>2505</td></tr><tr><td>dbfs:/FileStore/tables/salary.json</td><td>salary.json</td><td>361</td></tr><tr><td>dbfs:/FileStore/tables/temperature.csv</td><td>temperature.csv</td><td>13971171</td></tr><tr><td>dbfs:/FileStore/tables/transport_nodes-7c826.csv</td><td>transport_nodes-7c826.csv</td><td>465</td></tr><tr><td>dbfs:/FileStore/tables/transport_relationships-c2bfc.csv</td><td>transport_relationships-c2bfc.csv</td><td>550</td></tr><tr><td>dbfs:/FileStore/tables/u.data</td><td>u.data</td><td>1979173</td></tr><tr><td>dbfs:/FileStore/tables/winequality_red-42ff5.csv</td><td>winequality_red-42ff5.csv</td><td>84199</td></tr><tr><td>dbfs:/FileStore/tables/worldcities.csv</td><td>worldcities.csv</td><td>1667065</td></tr></tbody></table></div>"
            ]
          }
        }
      ],
      "execution_count": null
    },
    {
      "cell_type": "code",
      "source": [
        "diretorioDatasetDiabets=\"/FileStore/tables/Mall_Customers.csv\"  #diretório que contém o arquivo a ser utilizado"
      ],
      "metadata": {
        "id": "LAiIvbgt3onC",
        "outputId": "5d51abc7-33dc-424a-be57-ba1281cfff9e"
      },
      "outputs": [
        {
          "metadata": {},
          "output_type": "display_data",
          "data": {
            "text/html": [
              "<style scoped>\n  .ansiout {\n    display: block;\n    unicode-bidi: embed;\n    white-space: pre-wrap;\n    word-wrap: break-word;\n    word-break: break-all;\n    font-family: \"Source Code Pro\", \"Menlo\", monospace;;\n    font-size: 13px;\n    color: #555;\n    margin-left: 4px;\n    line-height: 19px;\n  }\n</style>\n<div class=\"ansiout\"></div>"
            ]
          }
        }
      ],
      "execution_count": null
    },
    {
      "cell_type": "code",
      "source": [
        "data = spark.read.format(\"csv\").options(header=\"true\", inferschema=\"true\").load(diretorioDatasetDiabets)  #realiza a leitura do dataset"
      ],
      "metadata": {
        "id": "bcNda4yD3onC",
        "outputId": "58ae8c85-1272-4dc7-c0d0-4515534583f9"
      },
      "outputs": [
        {
          "metadata": {},
          "output_type": "display_data",
          "data": {
            "text/html": [
              "<style scoped>\n  .ansiout {\n    display: block;\n    unicode-bidi: embed;\n    white-space: pre-wrap;\n    word-wrap: break-word;\n    word-break: break-all;\n    font-family: \"Source Code Pro\", \"Menlo\", monospace;;\n    font-size: 13px;\n    color: #555;\n    margin-left: 4px;\n    line-height: 19px;\n  }\n</style>\n<div class=\"ansiout\"></div>"
            ]
          }
        }
      ],
      "execution_count": null
    },
    {
      "cell_type": "code",
      "source": [
        "data.show(5,False)  #mostrando as 5 primeiras instâncias do dataset"
      ],
      "metadata": {
        "id": "6jdLBlR-3onH",
        "outputId": "c7162950-8bea-41d8-d1f5-44f16c3a827c"
      },
      "outputs": [
        {
          "metadata": {},
          "output_type": "display_data",
          "data": {
            "text/html": [
              "<style scoped>\n  .ansiout {\n    display: block;\n    unicode-bidi: embed;\n    white-space: pre-wrap;\n    word-wrap: break-word;\n    word-break: break-all;\n    font-family: \"Source Code Pro\", \"Menlo\", monospace;;\n    font-size: 13px;\n    color: #555;\n    margin-left: 4px;\n    line-height: 19px;\n  }\n</style>\n<div class=\"ansiout\">+----------+------+---+------------------+----------------------+\nCustomerID|Genre |Age|Annual Income (k$)|Spending Score (1-100)|\n+----------+------+---+------------------+----------------------+\n1         |Male  |19 |15                |39                    |\n2         |Male  |21 |15                |81                    |\n3         |Female|20 |16                |6                     |\n4         |Female|23 |16                |77                    |\n5         |Female|31 |17                |40                    |\n+----------+------+---+------------------+----------------------+\nonly showing top 5 rows\n\n</div>"
            ]
          }
        }
      ],
      "execution_count": null
    },
    {
      "cell_type": "code",
      "source": [
        "data.columns #mostra as colunas do dataset"
      ],
      "metadata": {
        "id": "S5CWT2Nm3onJ",
        "outputId": "c5b36e0a-c31e-4e8e-afa8-a64a98b74eaf"
      },
      "outputs": [
        {
          "metadata": {},
          "output_type": "display_data",
          "data": {
            "text/html": [
              "<style scoped>\n  .ansiout {\n    display: block;\n    unicode-bidi: embed;\n    white-space: pre-wrap;\n    word-wrap: break-word;\n    word-break: break-all;\n    font-family: \"Source Code Pro\", \"Menlo\", monospace;;\n    font-size: 13px;\n    color: #555;\n    margin-left: 4px;\n    line-height: 19px;\n  }\n</style>\n<div class=\"ansiout\">Out[6]: [&#39;CustomerID&#39;, &#39;Genre&#39;, &#39;Age&#39;, &#39;Annual Income (k$)&#39;, &#39;Spending Score (1-100)&#39;]</div>"
            ]
          }
        }
      ],
      "execution_count": null
    },
    {
      "cell_type": "code",
      "source": [
        "data.printSchema()  #mostra o esquema inferido pelas variáveis"
      ],
      "metadata": {
        "id": "cgKNbkg_3onL",
        "outputId": "5389438f-eb07-4b53-da40-66ebfad866d1"
      },
      "outputs": [
        {
          "metadata": {},
          "output_type": "display_data",
          "data": {
            "text/html": [
              "<style scoped>\n  .ansiout {\n    display: block;\n    unicode-bidi: embed;\n    white-space: pre-wrap;\n    word-wrap: break-word;\n    word-break: break-all;\n    font-family: \"Source Code Pro\", \"Menlo\", monospace;;\n    font-size: 13px;\n    color: #555;\n    margin-left: 4px;\n    line-height: 19px;\n  }\n</style>\n<div class=\"ansiout\">root\n-- CustomerID: integer (nullable = true)\n-- Genre: string (nullable = true)\n-- Age: integer (nullable = true)\n-- Annual Income (k$): integer (nullable = true)\n-- Spending Score (1-100): integer (nullable = true)\n\n</div>"
            ]
          }
        }
      ],
      "execution_count": null
    },
    {
      "cell_type": "code",
      "source": [
        "data.count()  #conta a quantidade de registros"
      ],
      "metadata": {
        "id": "CvLoLzS93onN",
        "outputId": "432952f0-9708-403f-992a-d488b9d5d91e"
      },
      "outputs": [
        {
          "metadata": {},
          "output_type": "display_data",
          "data": {
            "text/html": [
              "<style scoped>\n  .ansiout {\n    display: block;\n    unicode-bidi: embed;\n    white-space: pre-wrap;\n    word-wrap: break-word;\n    word-break: break-all;\n    font-family: \"Source Code Pro\", \"Menlo\", monospace;;\n    font-size: 13px;\n    color: #555;\n    margin-left: 4px;\n    line-height: 19px;\n  }\n</style>\n<div class=\"ansiout\">Out[8]: 200</div>"
            ]
          }
        }
      ],
      "execution_count": null
    },
    {
      "cell_type": "code",
      "source": [
        "#verificando a existência ou não de valores nulos\n",
        "from pyspark.sql.functions import isnan, when, count, col\n",
        "\n",
        "data.select([count(when(isnan(c), c)).alias(c) for c in data.columns]).show()"
      ],
      "metadata": {
        "id": "vftrVDSQ3onO",
        "outputId": "6691d7ba-1e11-4387-9651-ebb7e566d226"
      },
      "outputs": [
        {
          "metadata": {},
          "output_type": "display_data",
          "data": {
            "text/html": [
              "<style scoped>\n  .ansiout {\n    display: block;\n    unicode-bidi: embed;\n    white-space: pre-wrap;\n    word-wrap: break-word;\n    word-break: break-all;\n    font-family: \"Source Code Pro\", \"Menlo\", monospace;;\n    font-size: 13px;\n    color: #555;\n    margin-left: 4px;\n    line-height: 19px;\n  }\n</style>\n<div class=\"ansiout\">+----------+-----+---+------------------+----------------------+\nCustomerID|Genre|Age|Annual Income (k$)|Spending Score (1-100)|\n+----------+-----+---+------------------+----------------------+\n         0|    0|  0|                 0|                     0|\n+----------+-----+---+------------------+----------------------+\n\n</div>"
            ]
          }
        }
      ],
      "execution_count": null
    },
    {
      "cell_type": "code",
      "source": [
        "data.describe().show() #mostrando as estatísticas do dataset"
      ],
      "metadata": {
        "id": "OyjagF7N3onP",
        "outputId": "7687ffd5-192e-4844-d789-5124cd5eb393"
      },
      "outputs": [
        {
          "metadata": {},
          "output_type": "display_data",
          "data": {
            "text/html": [
              "<style scoped>\n  .ansiout {\n    display: block;\n    unicode-bidi: embed;\n    white-space: pre-wrap;\n    word-wrap: break-word;\n    word-break: break-all;\n    font-family: \"Source Code Pro\", \"Menlo\", monospace;;\n    font-size: 13px;\n    color: #555;\n    margin-left: 4px;\n    line-height: 19px;\n  }\n</style>\n<div class=\"ansiout\">+-------+------------------+------+-----------------+------------------+----------------------+\nsummary|        CustomerID| Genre|              Age|Annual Income (k$)|Spending Score (1-100)|\n+-------+------------------+------+-----------------+------------------+----------------------+\n  count|               200|   200|              200|               200|                   200|\n   mean|             100.5|  null|            38.85|             60.56|                  50.2|\n stddev|57.879184513951124|  null|13.96900733155888| 26.26472116527124|    25.823521668370173|\n    min|                 1|Female|               18|                15|                     1|\n    max|               200|  Male|               70|               137|                    99|\n+-------+------------------+------+-----------------+------------------+----------------------+\n\n</div>"
            ]
          }
        }
      ],
      "execution_count": null
    },
    {
      "cell_type": "markdown",
      "source": [
        "Verificando se existem outliers (anomalias) nos dados. Para isso, será utilizado o boxplot."
      ],
      "metadata": {
        "id": "CRrvBGjZ3onQ"
      }
    },
    {
      "cell_type": "code",
      "source": [
        "#selecionando apenas algumas colunas\n",
        "data_outliers=data.select([c for c in data.columns if c in ['Age','Annual Income (k$)','Spending Score (1-100)']])\n",
        "data_outliers.show()"
      ],
      "metadata": {
        "id": "4DIAbxGI3onR",
        "outputId": "0e5a8aa1-3105-4062-855b-3354402e3743"
      },
      "outputs": [
        {
          "metadata": {},
          "output_type": "display_data",
          "data": {
            "text/html": [
              "<style scoped>\n  .ansiout {\n    display: block;\n    unicode-bidi: embed;\n    white-space: pre-wrap;\n    word-wrap: break-word;\n    word-break: break-all;\n    font-family: \"Source Code Pro\", \"Menlo\", monospace;;\n    font-size: 13px;\n    color: #555;\n    margin-left: 4px;\n    line-height: 19px;\n  }\n</style>\n<div class=\"ansiout\">+---+------------------+----------------------+\nAge|Annual Income (k$)|Spending Score (1-100)|\n+---+------------------+----------------------+\n 19|                15|                    39|\n 21|                15|                    81|\n 20|                16|                     6|\n 23|                16|                    77|\n 31|                17|                    40|\n 22|                17|                    76|\n 35|                18|                     6|\n 23|                18|                    94|\n 64|                19|                     3|\n 30|                19|                    72|\n 67|                19|                    14|\n 35|                19|                    99|\n 58|                20|                    15|\n 24|                20|                    77|\n 37|                20|                    13|\n 22|                20|                    79|\n 35|                21|                    35|\n 20|                21|                    66|\n 52|                23|                    29|\n 35|                23|                    98|\n+---+------------------+----------------------+\nonly showing top 20 rows\n\n</div>"
            ]
          }
        }
      ],
      "execution_count": null
    },
    {
      "cell_type": "code",
      "source": [
        "#boxplot\n",
        "display(data_outliers)"
      ],
      "metadata": {
        "id": "QB0CqG_X3onR",
        "outputId": "6712015a-9ece-4a14-a36d-9e11fb90dc10"
      },
      "outputs": [
        {
          "metadata": {},
          "output_type": "display_data",
          "data": {
            "text/html": [
              "<style scoped>\n  .table-result-container {\n    max-height: 300px;\n    overflow: auto;\n  }\n  table, th, td {\n    border: 1px solid black;\n    border-collapse: collapse;\n  }\n  th, td {\n    padding: 5px;\n  }\n  th {\n    text-align: left;\n  }\n</style><div class='table-result-container'><table class='table-result'><thead style='background-color: white'><tr><th>Age</th><th>Annual Income (k$)</th><th>Spending Score (1-100)</th></tr></thead><tbody><tr><td>19</td><td>15</td><td>39</td></tr><tr><td>21</td><td>15</td><td>81</td></tr><tr><td>20</td><td>16</td><td>6</td></tr><tr><td>23</td><td>16</td><td>77</td></tr><tr><td>31</td><td>17</td><td>40</td></tr><tr><td>22</td><td>17</td><td>76</td></tr><tr><td>35</td><td>18</td><td>6</td></tr><tr><td>23</td><td>18</td><td>94</td></tr><tr><td>64</td><td>19</td><td>3</td></tr><tr><td>30</td><td>19</td><td>72</td></tr><tr><td>67</td><td>19</td><td>14</td></tr><tr><td>35</td><td>19</td><td>99</td></tr><tr><td>58</td><td>20</td><td>15</td></tr><tr><td>24</td><td>20</td><td>77</td></tr><tr><td>37</td><td>20</td><td>13</td></tr><tr><td>22</td><td>20</td><td>79</td></tr><tr><td>35</td><td>21</td><td>35</td></tr><tr><td>20</td><td>21</td><td>66</td></tr><tr><td>52</td><td>23</td><td>29</td></tr><tr><td>35</td><td>23</td><td>98</td></tr><tr><td>35</td><td>24</td><td>35</td></tr><tr><td>25</td><td>24</td><td>73</td></tr><tr><td>46</td><td>25</td><td>5</td></tr><tr><td>31</td><td>25</td><td>73</td></tr><tr><td>54</td><td>28</td><td>14</td></tr><tr><td>29</td><td>28</td><td>82</td></tr><tr><td>45</td><td>28</td><td>32</td></tr><tr><td>35</td><td>28</td><td>61</td></tr><tr><td>40</td><td>29</td><td>31</td></tr><tr><td>23</td><td>29</td><td>87</td></tr><tr><td>60</td><td>30</td><td>4</td></tr><tr><td>21</td><td>30</td><td>73</td></tr><tr><td>53</td><td>33</td><td>4</td></tr><tr><td>18</td><td>33</td><td>92</td></tr><tr><td>49</td><td>33</td><td>14</td></tr><tr><td>21</td><td>33</td><td>81</td></tr><tr><td>42</td><td>34</td><td>17</td></tr><tr><td>30</td><td>34</td><td>73</td></tr><tr><td>36</td><td>37</td><td>26</td></tr><tr><td>20</td><td>37</td><td>75</td></tr><tr><td>65</td><td>38</td><td>35</td></tr><tr><td>24</td><td>38</td><td>92</td></tr><tr><td>48</td><td>39</td><td>36</td></tr><tr><td>31</td><td>39</td><td>61</td></tr><tr><td>49</td><td>39</td><td>28</td></tr><tr><td>24</td><td>39</td><td>65</td></tr><tr><td>50</td><td>40</td><td>55</td></tr><tr><td>27</td><td>40</td><td>47</td></tr><tr><td>29</td><td>40</td><td>42</td></tr><tr><td>31</td><td>40</td><td>42</td></tr><tr><td>49</td><td>42</td><td>52</td></tr><tr><td>33</td><td>42</td><td>60</td></tr><tr><td>31</td><td>43</td><td>54</td></tr><tr><td>59</td><td>43</td><td>60</td></tr><tr><td>50</td><td>43</td><td>45</td></tr><tr><td>47</td><td>43</td><td>41</td></tr><tr><td>51</td><td>44</td><td>50</td></tr><tr><td>69</td><td>44</td><td>46</td></tr><tr><td>27</td><td>46</td><td>51</td></tr><tr><td>53</td><td>46</td><td>46</td></tr><tr><td>70</td><td>46</td><td>56</td></tr><tr><td>19</td><td>46</td><td>55</td></tr><tr><td>67</td><td>47</td><td>52</td></tr><tr><td>54</td><td>47</td><td>59</td></tr><tr><td>63</td><td>48</td><td>51</td></tr><tr><td>18</td><td>48</td><td>59</td></tr><tr><td>43</td><td>48</td><td>50</td></tr><tr><td>68</td><td>48</td><td>48</td></tr><tr><td>19</td><td>48</td><td>59</td></tr><tr><td>32</td><td>48</td><td>47</td></tr><tr><td>70</td><td>49</td><td>55</td></tr><tr><td>47</td><td>49</td><td>42</td></tr><tr><td>60</td><td>50</td><td>49</td></tr><tr><td>60</td><td>50</td><td>56</td></tr><tr><td>59</td><td>54</td><td>47</td></tr><tr><td>26</td><td>54</td><td>54</td></tr><tr><td>45</td><td>54</td><td>53</td></tr><tr><td>40</td><td>54</td><td>48</td></tr><tr><td>23</td><td>54</td><td>52</td></tr><tr><td>49</td><td>54</td><td>42</td></tr><tr><td>57</td><td>54</td><td>51</td></tr><tr><td>38</td><td>54</td><td>55</td></tr><tr><td>67</td><td>54</td><td>41</td></tr><tr><td>46</td><td>54</td><td>44</td></tr><tr><td>21</td><td>54</td><td>57</td></tr><tr><td>48</td><td>54</td><td>46</td></tr><tr><td>55</td><td>57</td><td>58</td></tr><tr><td>22</td><td>57</td><td>55</td></tr><tr><td>34</td><td>58</td><td>60</td></tr><tr><td>50</td><td>58</td><td>46</td></tr><tr><td>68</td><td>59</td><td>55</td></tr><tr><td>18</td><td>59</td><td>41</td></tr><tr><td>48</td><td>60</td><td>49</td></tr><tr><td>40</td><td>60</td><td>40</td></tr><tr><td>32</td><td>60</td><td>42</td></tr><tr><td>24</td><td>60</td><td>52</td></tr><tr><td>47</td><td>60</td><td>47</td></tr><tr><td>27</td><td>60</td><td>50</td></tr><tr><td>48</td><td>61</td><td>42</td></tr><tr><td>20</td><td>61</td><td>49</td></tr><tr><td>23</td><td>62</td><td>41</td></tr><tr><td>49</td><td>62</td><td>48</td></tr><tr><td>67</td><td>62</td><td>59</td></tr><tr><td>26</td><td>62</td><td>55</td></tr><tr><td>49</td><td>62</td><td>56</td></tr><tr><td>21</td><td>62</td><td>42</td></tr><tr><td>66</td><td>63</td><td>50</td></tr><tr><td>54</td><td>63</td><td>46</td></tr><tr><td>68</td><td>63</td><td>43</td></tr><tr><td>66</td><td>63</td><td>48</td></tr><tr><td>65</td><td>63</td><td>52</td></tr><tr><td>19</td><td>63</td><td>54</td></tr><tr><td>38</td><td>64</td><td>42</td></tr><tr><td>19</td><td>64</td><td>46</td></tr><tr><td>18</td><td>65</td><td>48</td></tr><tr><td>19</td><td>65</td><td>50</td></tr><tr><td>63</td><td>65</td><td>43</td></tr><tr><td>49</td><td>65</td><td>59</td></tr><tr><td>51</td><td>67</td><td>43</td></tr><tr><td>50</td><td>67</td><td>57</td></tr><tr><td>27</td><td>67</td><td>56</td></tr><tr><td>38</td><td>67</td><td>40</td></tr><tr><td>40</td><td>69</td><td>58</td></tr><tr><td>39</td><td>69</td><td>91</td></tr><tr><td>23</td><td>70</td><td>29</td></tr><tr><td>31</td><td>70</td><td>77</td></tr><tr><td>43</td><td>71</td><td>35</td></tr><tr><td>40</td><td>71</td><td>95</td></tr><tr><td>59</td><td>71</td><td>11</td></tr><tr><td>38</td><td>71</td><td>75</td></tr><tr><td>47</td><td>71</td><td>9</td></tr><tr><td>39</td><td>71</td><td>75</td></tr><tr><td>25</td><td>72</td><td>34</td></tr><tr><td>31</td><td>72</td><td>71</td></tr><tr><td>20</td><td>73</td><td>5</td></tr><tr><td>29</td><td>73</td><td>88</td></tr><tr><td>44</td><td>73</td><td>7</td></tr><tr><td>32</td><td>73</td><td>73</td></tr><tr><td>19</td><td>74</td><td>10</td></tr><tr><td>35</td><td>74</td><td>72</td></tr><tr><td>57</td><td>75</td><td>5</td></tr><tr><td>32</td><td>75</td><td>93</td></tr><tr><td>28</td><td>76</td><td>40</td></tr><tr><td>32</td><td>76</td><td>87</td></tr><tr><td>25</td><td>77</td><td>12</td></tr><tr><td>28</td><td>77</td><td>97</td></tr><tr><td>48</td><td>77</td><td>36</td></tr><tr><td>32</td><td>77</td><td>74</td></tr><tr><td>34</td><td>78</td><td>22</td></tr><tr><td>34</td><td>78</td><td>90</td></tr><tr><td>43</td><td>78</td><td>17</td></tr><tr><td>39</td><td>78</td><td>88</td></tr><tr><td>44</td><td>78</td><td>20</td></tr><tr><td>38</td><td>78</td><td>76</td></tr><tr><td>47</td><td>78</td><td>16</td></tr><tr><td>27</td><td>78</td><td>89</td></tr><tr><td>37</td><td>78</td><td>1</td></tr><tr><td>30</td><td>78</td><td>78</td></tr><tr><td>34</td><td>78</td><td>1</td></tr><tr><td>30</td><td>78</td><td>73</td></tr><tr><td>56</td><td>79</td><td>35</td></tr><tr><td>29</td><td>79</td><td>83</td></tr><tr><td>19</td><td>81</td><td>5</td></tr><tr><td>31</td><td>81</td><td>93</td></tr><tr><td>50</td><td>85</td><td>26</td></tr><tr><td>36</td><td>85</td><td>75</td></tr><tr><td>42</td><td>86</td><td>20</td></tr><tr><td>33</td><td>86</td><td>95</td></tr><tr><td>36</td><td>87</td><td>27</td></tr><tr><td>32</td><td>87</td><td>63</td></tr><tr><td>40</td><td>87</td><td>13</td></tr><tr><td>28</td><td>87</td><td>75</td></tr><tr><td>36</td><td>87</td><td>10</td></tr><tr><td>36</td><td>87</td><td>92</td></tr><tr><td>52</td><td>88</td><td>13</td></tr><tr><td>30</td><td>88</td><td>86</td></tr><tr><td>58</td><td>88</td><td>15</td></tr><tr><td>27</td><td>88</td><td>69</td></tr><tr><td>59</td><td>93</td><td>14</td></tr><tr><td>35</td><td>93</td><td>90</td></tr><tr><td>37</td><td>97</td><td>32</td></tr><tr><td>32</td><td>97</td><td>86</td></tr><tr><td>46</td><td>98</td><td>15</td></tr><tr><td>29</td><td>98</td><td>88</td></tr><tr><td>41</td><td>99</td><td>39</td></tr><tr><td>30</td><td>99</td><td>97</td></tr><tr><td>54</td><td>101</td><td>24</td></tr><tr><td>28</td><td>101</td><td>68</td></tr><tr><td>41</td><td>103</td><td>17</td></tr><tr><td>36</td><td>103</td><td>85</td></tr><tr><td>34</td><td>103</td><td>23</td></tr><tr><td>32</td><td>103</td><td>69</td></tr><tr><td>33</td><td>113</td><td>8</td></tr><tr><td>38</td><td>113</td><td>91</td></tr><tr><td>47</td><td>120</td><td>16</td></tr><tr><td>35</td><td>120</td><td>79</td></tr><tr><td>45</td><td>126</td><td>28</td></tr><tr><td>32</td><td>126</td><td>74</td></tr><tr><td>32</td><td>137</td><td>18</td></tr><tr><td>30</td><td>137</td><td>83</td></tr></tbody></table></div>"
            ]
          }
        }
      ],
      "execution_count": null
    },
    {
      "cell_type": "code",
      "source": [
        "#histograma\n",
        "display(data_outliers)"
      ],
      "metadata": {
        "id": "zTEhSDzg3onS",
        "outputId": "efc29d96-1d56-4c59-eb23-30f1933b7184"
      },
      "outputs": [
        {
          "metadata": {},
          "output_type": "display_data",
          "data": {
            "text/html": [
              "<style scoped>\n  .table-result-container {\n    max-height: 300px;\n    overflow: auto;\n  }\n  table, th, td {\n    border: 1px solid black;\n    border-collapse: collapse;\n  }\n  th, td {\n    padding: 5px;\n  }\n  th {\n    text-align: left;\n  }\n</style><div class='table-result-container'><table class='table-result'><thead style='background-color: white'><tr><th>Age</th><th>Annual Income (k$)</th><th>Spending Score (1-100)</th></tr></thead><tbody><tr><td>19</td><td>15</td><td>39</td></tr><tr><td>21</td><td>15</td><td>81</td></tr><tr><td>20</td><td>16</td><td>6</td></tr><tr><td>23</td><td>16</td><td>77</td></tr><tr><td>31</td><td>17</td><td>40</td></tr><tr><td>22</td><td>17</td><td>76</td></tr><tr><td>35</td><td>18</td><td>6</td></tr><tr><td>23</td><td>18</td><td>94</td></tr><tr><td>64</td><td>19</td><td>3</td></tr><tr><td>30</td><td>19</td><td>72</td></tr><tr><td>67</td><td>19</td><td>14</td></tr><tr><td>35</td><td>19</td><td>99</td></tr><tr><td>58</td><td>20</td><td>15</td></tr><tr><td>24</td><td>20</td><td>77</td></tr><tr><td>37</td><td>20</td><td>13</td></tr><tr><td>22</td><td>20</td><td>79</td></tr><tr><td>35</td><td>21</td><td>35</td></tr><tr><td>20</td><td>21</td><td>66</td></tr><tr><td>52</td><td>23</td><td>29</td></tr><tr><td>35</td><td>23</td><td>98</td></tr><tr><td>35</td><td>24</td><td>35</td></tr><tr><td>25</td><td>24</td><td>73</td></tr><tr><td>46</td><td>25</td><td>5</td></tr><tr><td>31</td><td>25</td><td>73</td></tr><tr><td>54</td><td>28</td><td>14</td></tr><tr><td>29</td><td>28</td><td>82</td></tr><tr><td>45</td><td>28</td><td>32</td></tr><tr><td>35</td><td>28</td><td>61</td></tr><tr><td>40</td><td>29</td><td>31</td></tr><tr><td>23</td><td>29</td><td>87</td></tr><tr><td>60</td><td>30</td><td>4</td></tr><tr><td>21</td><td>30</td><td>73</td></tr><tr><td>53</td><td>33</td><td>4</td></tr><tr><td>18</td><td>33</td><td>92</td></tr><tr><td>49</td><td>33</td><td>14</td></tr><tr><td>21</td><td>33</td><td>81</td></tr><tr><td>42</td><td>34</td><td>17</td></tr><tr><td>30</td><td>34</td><td>73</td></tr><tr><td>36</td><td>37</td><td>26</td></tr><tr><td>20</td><td>37</td><td>75</td></tr><tr><td>65</td><td>38</td><td>35</td></tr><tr><td>24</td><td>38</td><td>92</td></tr><tr><td>48</td><td>39</td><td>36</td></tr><tr><td>31</td><td>39</td><td>61</td></tr><tr><td>49</td><td>39</td><td>28</td></tr><tr><td>24</td><td>39</td><td>65</td></tr><tr><td>50</td><td>40</td><td>55</td></tr><tr><td>27</td><td>40</td><td>47</td></tr><tr><td>29</td><td>40</td><td>42</td></tr><tr><td>31</td><td>40</td><td>42</td></tr><tr><td>49</td><td>42</td><td>52</td></tr><tr><td>33</td><td>42</td><td>60</td></tr><tr><td>31</td><td>43</td><td>54</td></tr><tr><td>59</td><td>43</td><td>60</td></tr><tr><td>50</td><td>43</td><td>45</td></tr><tr><td>47</td><td>43</td><td>41</td></tr><tr><td>51</td><td>44</td><td>50</td></tr><tr><td>69</td><td>44</td><td>46</td></tr><tr><td>27</td><td>46</td><td>51</td></tr><tr><td>53</td><td>46</td><td>46</td></tr><tr><td>70</td><td>46</td><td>56</td></tr><tr><td>19</td><td>46</td><td>55</td></tr><tr><td>67</td><td>47</td><td>52</td></tr><tr><td>54</td><td>47</td><td>59</td></tr><tr><td>63</td><td>48</td><td>51</td></tr><tr><td>18</td><td>48</td><td>59</td></tr><tr><td>43</td><td>48</td><td>50</td></tr><tr><td>68</td><td>48</td><td>48</td></tr><tr><td>19</td><td>48</td><td>59</td></tr><tr><td>32</td><td>48</td><td>47</td></tr><tr><td>70</td><td>49</td><td>55</td></tr><tr><td>47</td><td>49</td><td>42</td></tr><tr><td>60</td><td>50</td><td>49</td></tr><tr><td>60</td><td>50</td><td>56</td></tr><tr><td>59</td><td>54</td><td>47</td></tr><tr><td>26</td><td>54</td><td>54</td></tr><tr><td>45</td><td>54</td><td>53</td></tr><tr><td>40</td><td>54</td><td>48</td></tr><tr><td>23</td><td>54</td><td>52</td></tr><tr><td>49</td><td>54</td><td>42</td></tr><tr><td>57</td><td>54</td><td>51</td></tr><tr><td>38</td><td>54</td><td>55</td></tr><tr><td>67</td><td>54</td><td>41</td></tr><tr><td>46</td><td>54</td><td>44</td></tr><tr><td>21</td><td>54</td><td>57</td></tr><tr><td>48</td><td>54</td><td>46</td></tr><tr><td>55</td><td>57</td><td>58</td></tr><tr><td>22</td><td>57</td><td>55</td></tr><tr><td>34</td><td>58</td><td>60</td></tr><tr><td>50</td><td>58</td><td>46</td></tr><tr><td>68</td><td>59</td><td>55</td></tr><tr><td>18</td><td>59</td><td>41</td></tr><tr><td>48</td><td>60</td><td>49</td></tr><tr><td>40</td><td>60</td><td>40</td></tr><tr><td>32</td><td>60</td><td>42</td></tr><tr><td>24</td><td>60</td><td>52</td></tr><tr><td>47</td><td>60</td><td>47</td></tr><tr><td>27</td><td>60</td><td>50</td></tr><tr><td>48</td><td>61</td><td>42</td></tr><tr><td>20</td><td>61</td><td>49</td></tr><tr><td>23</td><td>62</td><td>41</td></tr><tr><td>49</td><td>62</td><td>48</td></tr><tr><td>67</td><td>62</td><td>59</td></tr><tr><td>26</td><td>62</td><td>55</td></tr><tr><td>49</td><td>62</td><td>56</td></tr><tr><td>21</td><td>62</td><td>42</td></tr><tr><td>66</td><td>63</td><td>50</td></tr><tr><td>54</td><td>63</td><td>46</td></tr><tr><td>68</td><td>63</td><td>43</td></tr><tr><td>66</td><td>63</td><td>48</td></tr><tr><td>65</td><td>63</td><td>52</td></tr><tr><td>19</td><td>63</td><td>54</td></tr><tr><td>38</td><td>64</td><td>42</td></tr><tr><td>19</td><td>64</td><td>46</td></tr><tr><td>18</td><td>65</td><td>48</td></tr><tr><td>19</td><td>65</td><td>50</td></tr><tr><td>63</td><td>65</td><td>43</td></tr><tr><td>49</td><td>65</td><td>59</td></tr><tr><td>51</td><td>67</td><td>43</td></tr><tr><td>50</td><td>67</td><td>57</td></tr><tr><td>27</td><td>67</td><td>56</td></tr><tr><td>38</td><td>67</td><td>40</td></tr><tr><td>40</td><td>69</td><td>58</td></tr><tr><td>39</td><td>69</td><td>91</td></tr><tr><td>23</td><td>70</td><td>29</td></tr><tr><td>31</td><td>70</td><td>77</td></tr><tr><td>43</td><td>71</td><td>35</td></tr><tr><td>40</td><td>71</td><td>95</td></tr><tr><td>59</td><td>71</td><td>11</td></tr><tr><td>38</td><td>71</td><td>75</td></tr><tr><td>47</td><td>71</td><td>9</td></tr><tr><td>39</td><td>71</td><td>75</td></tr><tr><td>25</td><td>72</td><td>34</td></tr><tr><td>31</td><td>72</td><td>71</td></tr><tr><td>20</td><td>73</td><td>5</td></tr><tr><td>29</td><td>73</td><td>88</td></tr><tr><td>44</td><td>73</td><td>7</td></tr><tr><td>32</td><td>73</td><td>73</td></tr><tr><td>19</td><td>74</td><td>10</td></tr><tr><td>35</td><td>74</td><td>72</td></tr><tr><td>57</td><td>75</td><td>5</td></tr><tr><td>32</td><td>75</td><td>93</td></tr><tr><td>28</td><td>76</td><td>40</td></tr><tr><td>32</td><td>76</td><td>87</td></tr><tr><td>25</td><td>77</td><td>12</td></tr><tr><td>28</td><td>77</td><td>97</td></tr><tr><td>48</td><td>77</td><td>36</td></tr><tr><td>32</td><td>77</td><td>74</td></tr><tr><td>34</td><td>78</td><td>22</td></tr><tr><td>34</td><td>78</td><td>90</td></tr><tr><td>43</td><td>78</td><td>17</td></tr><tr><td>39</td><td>78</td><td>88</td></tr><tr><td>44</td><td>78</td><td>20</td></tr><tr><td>38</td><td>78</td><td>76</td></tr><tr><td>47</td><td>78</td><td>16</td></tr><tr><td>27</td><td>78</td><td>89</td></tr><tr><td>37</td><td>78</td><td>1</td></tr><tr><td>30</td><td>78</td><td>78</td></tr><tr><td>34</td><td>78</td><td>1</td></tr><tr><td>30</td><td>78</td><td>73</td></tr><tr><td>56</td><td>79</td><td>35</td></tr><tr><td>29</td><td>79</td><td>83</td></tr><tr><td>19</td><td>81</td><td>5</td></tr><tr><td>31</td><td>81</td><td>93</td></tr><tr><td>50</td><td>85</td><td>26</td></tr><tr><td>36</td><td>85</td><td>75</td></tr><tr><td>42</td><td>86</td><td>20</td></tr><tr><td>33</td><td>86</td><td>95</td></tr><tr><td>36</td><td>87</td><td>27</td></tr><tr><td>32</td><td>87</td><td>63</td></tr><tr><td>40</td><td>87</td><td>13</td></tr><tr><td>28</td><td>87</td><td>75</td></tr><tr><td>36</td><td>87</td><td>10</td></tr><tr><td>36</td><td>87</td><td>92</td></tr><tr><td>52</td><td>88</td><td>13</td></tr><tr><td>30</td><td>88</td><td>86</td></tr><tr><td>58</td><td>88</td><td>15</td></tr><tr><td>27</td><td>88</td><td>69</td></tr><tr><td>59</td><td>93</td><td>14</td></tr><tr><td>35</td><td>93</td><td>90</td></tr><tr><td>37</td><td>97</td><td>32</td></tr><tr><td>32</td><td>97</td><td>86</td></tr><tr><td>46</td><td>98</td><td>15</td></tr><tr><td>29</td><td>98</td><td>88</td></tr><tr><td>41</td><td>99</td><td>39</td></tr><tr><td>30</td><td>99</td><td>97</td></tr><tr><td>54</td><td>101</td><td>24</td></tr><tr><td>28</td><td>101</td><td>68</td></tr><tr><td>41</td><td>103</td><td>17</td></tr><tr><td>36</td><td>103</td><td>85</td></tr><tr><td>34</td><td>103</td><td>23</td></tr><tr><td>32</td><td>103</td><td>69</td></tr><tr><td>33</td><td>113</td><td>8</td></tr><tr><td>38</td><td>113</td><td>91</td></tr><tr><td>47</td><td>120</td><td>16</td></tr><tr><td>35</td><td>120</td><td>79</td></tr><tr><td>45</td><td>126</td><td>28</td></tr><tr><td>32</td><td>126</td><td>74</td></tr><tr><td>32</td><td>137</td><td>18</td></tr><tr><td>30</td><td>137</td><td>83</td></tr></tbody></table></div>"
            ]
          }
        }
      ],
      "execution_count": null
    },
    {
      "cell_type": "markdown",
      "source": [
        "Conhecendo o dataset"
      ],
      "metadata": {
        "id": "czsK5HTf3onS"
      }
    },
    {
      "cell_type": "code",
      "source": [
        "display(data.select([\"Genre\",\"Annual Income (k$)\"]))"
      ],
      "metadata": {
        "id": "zgQxTHUA3onT",
        "outputId": "1a9ced6e-e822-49fe-b429-4389364bd53c"
      },
      "outputs": [
        {
          "metadata": {},
          "output_type": "display_data",
          "data": {
            "text/html": [
              "<style scoped>\n  .table-result-container {\n    max-height: 300px;\n    overflow: auto;\n  }\n  table, th, td {\n    border: 1px solid black;\n    border-collapse: collapse;\n  }\n  th, td {\n    padding: 5px;\n  }\n  th {\n    text-align: left;\n  }\n</style><div class='table-result-container'><table class='table-result'><thead style='background-color: white'><tr><th>Genre</th><th>Annual Income (k$)</th></tr></thead><tbody><tr><td>Male</td><td>15</td></tr><tr><td>Male</td><td>15</td></tr><tr><td>Female</td><td>16</td></tr><tr><td>Female</td><td>16</td></tr><tr><td>Female</td><td>17</td></tr><tr><td>Female</td><td>17</td></tr><tr><td>Female</td><td>18</td></tr><tr><td>Female</td><td>18</td></tr><tr><td>Male</td><td>19</td></tr><tr><td>Female</td><td>19</td></tr><tr><td>Male</td><td>19</td></tr><tr><td>Female</td><td>19</td></tr><tr><td>Female</td><td>20</td></tr><tr><td>Female</td><td>20</td></tr><tr><td>Male</td><td>20</td></tr><tr><td>Male</td><td>20</td></tr><tr><td>Female</td><td>21</td></tr><tr><td>Male</td><td>21</td></tr><tr><td>Male</td><td>23</td></tr><tr><td>Female</td><td>23</td></tr><tr><td>Male</td><td>24</td></tr><tr><td>Male</td><td>24</td></tr><tr><td>Female</td><td>25</td></tr><tr><td>Male</td><td>25</td></tr><tr><td>Female</td><td>28</td></tr><tr><td>Male</td><td>28</td></tr><tr><td>Female</td><td>28</td></tr><tr><td>Male</td><td>28</td></tr><tr><td>Female</td><td>29</td></tr><tr><td>Female</td><td>29</td></tr><tr><td>Male</td><td>30</td></tr><tr><td>Female</td><td>30</td></tr><tr><td>Male</td><td>33</td></tr><tr><td>Male</td><td>33</td></tr><tr><td>Female</td><td>33</td></tr><tr><td>Female</td><td>33</td></tr><tr><td>Female</td><td>34</td></tr><tr><td>Female</td><td>34</td></tr><tr><td>Female</td><td>37</td></tr><tr><td>Female</td><td>37</td></tr><tr><td>Female</td><td>38</td></tr><tr><td>Male</td><td>38</td></tr><tr><td>Male</td><td>39</td></tr><tr><td>Female</td><td>39</td></tr><tr><td>Female</td><td>39</td></tr><tr><td>Female</td><td>39</td></tr><tr><td>Female</td><td>40</td></tr><tr><td>Female</td><td>40</td></tr><tr><td>Female</td><td>40</td></tr><tr><td>Female</td><td>40</td></tr><tr><td>Female</td><td>42</td></tr><tr><td>Male</td><td>42</td></tr><tr><td>Female</td><td>43</td></tr><tr><td>Male</td><td>43</td></tr><tr><td>Female</td><td>43</td></tr><tr><td>Male</td><td>43</td></tr><tr><td>Female</td><td>44</td></tr><tr><td>Male</td><td>44</td></tr><tr><td>Female</td><td>46</td></tr><tr><td>Male</td><td>46</td></tr><tr><td>Male</td><td>46</td></tr><tr><td>Male</td><td>46</td></tr><tr><td>Female</td><td>47</td></tr><tr><td>Female</td><td>47</td></tr><tr><td>Male</td><td>48</td></tr><tr><td>Male</td><td>48</td></tr><tr><td>Female</td><td>48</td></tr><tr><td>Female</td><td>48</td></tr><tr><td>Male</td><td>48</td></tr><tr><td>Female</td><td>48</td></tr><tr><td>Male</td><td>49</td></tr><tr><td>Female</td><td>49</td></tr><tr><td>Female</td><td>50</td></tr><tr><td>Female</td><td>50</td></tr><tr><td>Male</td><td>54</td></tr><tr><td>Male</td><td>54</td></tr><tr><td>Female</td><td>54</td></tr><tr><td>Male</td><td>54</td></tr><tr><td>Female</td><td>54</td></tr><tr><td>Female</td><td>54</td></tr><tr><td>Male</td><td>54</td></tr><tr><td>Male</td><td>54</td></tr><tr><td>Male</td><td>54</td></tr><tr><td>Female</td><td>54</td></tr><tr><td>Female</td><td>54</td></tr><tr><td>Male</td><td>54</td></tr><tr><td>Female</td><td>57</td></tr><tr><td>Female</td><td>57</td></tr><tr><td>Female</td><td>58</td></tr><tr><td>Female</td><td>58</td></tr><tr><td>Female</td><td>59</td></tr><tr><td>Male</td><td>59</td></tr><tr><td>Male</td><td>60</td></tr><tr><td>Female</td><td>60</td></tr><tr><td>Female</td><td>60</td></tr><tr><td>Male</td><td>60</td></tr><tr><td>Female</td><td>60</td></tr><tr><td>Female</td><td>60</td></tr><tr><td>Male</td><td>61</td></tr><tr><td>Male</td><td>61</td></tr><tr><td>Female</td><td>62</td></tr><tr><td>Female</td><td>62</td></tr><tr><td>Male</td><td>62</td></tr><tr><td>Male</td><td>62</td></tr><tr><td>Male</td><td>62</td></tr><tr><td>Female</td><td>62</td></tr><tr><td>Female</td><td>63</td></tr><tr><td>Male</td><td>63</td></tr><tr><td>Male</td><td>63</td></tr><tr><td>Male</td><td>63</td></tr><tr><td>Male</td><td>63</td></tr><tr><td>Female</td><td>63</td></tr><tr><td>Female</td><td>64</td></tr><tr><td>Male</td><td>64</td></tr><tr><td>Female</td><td>65</td></tr><tr><td>Female</td><td>65</td></tr><tr><td>Female</td><td>65</td></tr><tr><td>Female</td><td>65</td></tr><tr><td>Female</td><td>67</td></tr><tr><td>Female</td><td>67</td></tr><tr><td>Male</td><td>67</td></tr><tr><td>Female</td><td>67</td></tr><tr><td>Female</td><td>69</td></tr><tr><td>Male</td><td>69</td></tr><tr><td>Female</td><td>70</td></tr><tr><td>Female</td><td>70</td></tr><tr><td>Male</td><td>71</td></tr><tr><td>Male</td><td>71</td></tr><tr><td>Male</td><td>71</td></tr><tr><td>Male</td><td>71</td></tr><tr><td>Male</td><td>71</td></tr><tr><td>Male</td><td>71</td></tr><tr><td>Female</td><td>72</td></tr><tr><td>Female</td><td>72</td></tr><tr><td>Male</td><td>73</td></tr><tr><td>Female</td><td>73</td></tr><tr><td>Female</td><td>73</td></tr><tr><td>Male</td><td>73</td></tr><tr><td>Male</td><td>74</td></tr><tr><td>Female</td><td>74</td></tr><tr><td>Female</td><td>75</td></tr><tr><td>Male</td><td>75</td></tr><tr><td>Female</td><td>76</td></tr><tr><td>Female</td><td>76</td></tr><tr><td>Male</td><td>77</td></tr><tr><td>Male</td><td>77</td></tr><tr><td>Male</td><td>77</td></tr><tr><td>Female</td><td>77</td></tr><tr><td>Female</td><td>78</td></tr><tr><td>Male</td><td>78</td></tr><tr><td>Male</td><td>78</td></tr><tr><td>Male</td><td>78</td></tr><tr><td>Female</td><td>78</td></tr><tr><td>Female</td><td>78</td></tr><tr><td>Female</td><td>78</td></tr><tr><td>Female</td><td>78</td></tr><tr><td>Male</td><td>78</td></tr><tr><td>Female</td><td>78</td></tr><tr><td>Male</td><td>78</td></tr><tr><td>Female</td><td>78</td></tr><tr><td>Female</td><td>79</td></tr><tr><td>Female</td><td>79</td></tr><tr><td>Male</td><td>81</td></tr><tr><td>Female</td><td>81</td></tr><tr><td>Male</td><td>85</td></tr><tr><td>Female</td><td>85</td></tr><tr><td>Male</td><td>86</td></tr><tr><td>Female</td><td>86</td></tr><tr><td>Female</td><td>87</td></tr><tr><td>Male</td><td>87</td></tr><tr><td>Male</td><td>87</td></tr><tr><td>Male</td><td>87</td></tr><tr><td>Male</td><td>87</td></tr><tr><td>Male</td><td>87</td></tr><tr><td>Female</td><td>88</td></tr><tr><td>Female</td><td>88</td></tr><tr><td>Male</td><td>88</td></tr><tr><td>Male</td><td>88</td></tr><tr><td>Male</td><td>93</td></tr><tr><td>Male</td><td>93</td></tr><tr><td>Female</td><td>97</td></tr><tr><td>Female</td><td>97</td></tr><tr><td>Male</td><td>98</td></tr><tr><td>Female</td><td>98</td></tr><tr><td>Female</td><td>99</td></tr><tr><td>Male</td><td>99</td></tr><tr><td>Female</td><td>101</td></tr><tr><td>Male</td><td>101</td></tr><tr><td>Female</td><td>103</td></tr><tr><td>Female</td><td>103</td></tr><tr><td>Female</td><td>103</td></tr><tr><td>Female</td><td>103</td></tr><tr><td>Male</td><td>113</td></tr><tr><td>Female</td><td>113</td></tr><tr><td>Female</td><td>120</td></tr><tr><td>Female</td><td>120</td></tr><tr><td>Female</td><td>126</td></tr><tr><td>Male</td><td>126</td></tr><tr><td>Male</td><td>137</td></tr><tr><td>Male</td><td>137</td></tr></tbody></table></div>"
            ]
          }
        }
      ],
      "execution_count": null
    },
    {
      "cell_type": "code",
      "source": [
        "#distribuição dos consumidores pela idade\n",
        "display(data.select([\"Age\"]))"
      ],
      "metadata": {
        "id": "phavlgE53onT",
        "outputId": "733c2fc8-6a78-46b4-bf9d-4a8567200d0d"
      },
      "outputs": [
        {
          "metadata": {},
          "output_type": "display_data",
          "data": {
            "text/html": [
              "<style scoped>\n  .table-result-container {\n    max-height: 300px;\n    overflow: auto;\n  }\n  table, th, td {\n    border: 1px solid black;\n    border-collapse: collapse;\n  }\n  th, td {\n    padding: 5px;\n  }\n  th {\n    text-align: left;\n  }\n</style><div class='table-result-container'><table class='table-result'><thead style='background-color: white'><tr><th>Age</th></tr></thead><tbody><tr><td>19</td></tr><tr><td>21</td></tr><tr><td>20</td></tr><tr><td>23</td></tr><tr><td>31</td></tr><tr><td>22</td></tr><tr><td>35</td></tr><tr><td>23</td></tr><tr><td>64</td></tr><tr><td>30</td></tr><tr><td>67</td></tr><tr><td>35</td></tr><tr><td>58</td></tr><tr><td>24</td></tr><tr><td>37</td></tr><tr><td>22</td></tr><tr><td>35</td></tr><tr><td>20</td></tr><tr><td>52</td></tr><tr><td>35</td></tr><tr><td>35</td></tr><tr><td>25</td></tr><tr><td>46</td></tr><tr><td>31</td></tr><tr><td>54</td></tr><tr><td>29</td></tr><tr><td>45</td></tr><tr><td>35</td></tr><tr><td>40</td></tr><tr><td>23</td></tr><tr><td>60</td></tr><tr><td>21</td></tr><tr><td>53</td></tr><tr><td>18</td></tr><tr><td>49</td></tr><tr><td>21</td></tr><tr><td>42</td></tr><tr><td>30</td></tr><tr><td>36</td></tr><tr><td>20</td></tr><tr><td>65</td></tr><tr><td>24</td></tr><tr><td>48</td></tr><tr><td>31</td></tr><tr><td>49</td></tr><tr><td>24</td></tr><tr><td>50</td></tr><tr><td>27</td></tr><tr><td>29</td></tr><tr><td>31</td></tr><tr><td>49</td></tr><tr><td>33</td></tr><tr><td>31</td></tr><tr><td>59</td></tr><tr><td>50</td></tr><tr><td>47</td></tr><tr><td>51</td></tr><tr><td>69</td></tr><tr><td>27</td></tr><tr><td>53</td></tr><tr><td>70</td></tr><tr><td>19</td></tr><tr><td>67</td></tr><tr><td>54</td></tr><tr><td>63</td></tr><tr><td>18</td></tr><tr><td>43</td></tr><tr><td>68</td></tr><tr><td>19</td></tr><tr><td>32</td></tr><tr><td>70</td></tr><tr><td>47</td></tr><tr><td>60</td></tr><tr><td>60</td></tr><tr><td>59</td></tr><tr><td>26</td></tr><tr><td>45</td></tr><tr><td>40</td></tr><tr><td>23</td></tr><tr><td>49</td></tr><tr><td>57</td></tr><tr><td>38</td></tr><tr><td>67</td></tr><tr><td>46</td></tr><tr><td>21</td></tr><tr><td>48</td></tr><tr><td>55</td></tr><tr><td>22</td></tr><tr><td>34</td></tr><tr><td>50</td></tr><tr><td>68</td></tr><tr><td>18</td></tr><tr><td>48</td></tr><tr><td>40</td></tr><tr><td>32</td></tr><tr><td>24</td></tr><tr><td>47</td></tr><tr><td>27</td></tr><tr><td>48</td></tr><tr><td>20</td></tr><tr><td>23</td></tr><tr><td>49</td></tr><tr><td>67</td></tr><tr><td>26</td></tr><tr><td>49</td></tr><tr><td>21</td></tr><tr><td>66</td></tr><tr><td>54</td></tr><tr><td>68</td></tr><tr><td>66</td></tr><tr><td>65</td></tr><tr><td>19</td></tr><tr><td>38</td></tr><tr><td>19</td></tr><tr><td>18</td></tr><tr><td>19</td></tr><tr><td>63</td></tr><tr><td>49</td></tr><tr><td>51</td></tr><tr><td>50</td></tr><tr><td>27</td></tr><tr><td>38</td></tr><tr><td>40</td></tr><tr><td>39</td></tr><tr><td>23</td></tr><tr><td>31</td></tr><tr><td>43</td></tr><tr><td>40</td></tr><tr><td>59</td></tr><tr><td>38</td></tr><tr><td>47</td></tr><tr><td>39</td></tr><tr><td>25</td></tr><tr><td>31</td></tr><tr><td>20</td></tr><tr><td>29</td></tr><tr><td>44</td></tr><tr><td>32</td></tr><tr><td>19</td></tr><tr><td>35</td></tr><tr><td>57</td></tr><tr><td>32</td></tr><tr><td>28</td></tr><tr><td>32</td></tr><tr><td>25</td></tr><tr><td>28</td></tr><tr><td>48</td></tr><tr><td>32</td></tr><tr><td>34</td></tr><tr><td>34</td></tr><tr><td>43</td></tr><tr><td>39</td></tr><tr><td>44</td></tr><tr><td>38</td></tr><tr><td>47</td></tr><tr><td>27</td></tr><tr><td>37</td></tr><tr><td>30</td></tr><tr><td>34</td></tr><tr><td>30</td></tr><tr><td>56</td></tr><tr><td>29</td></tr><tr><td>19</td></tr><tr><td>31</td></tr><tr><td>50</td></tr><tr><td>36</td></tr><tr><td>42</td></tr><tr><td>33</td></tr><tr><td>36</td></tr><tr><td>32</td></tr><tr><td>40</td></tr><tr><td>28</td></tr><tr><td>36</td></tr><tr><td>36</td></tr><tr><td>52</td></tr><tr><td>30</td></tr><tr><td>58</td></tr><tr><td>27</td></tr><tr><td>59</td></tr><tr><td>35</td></tr><tr><td>37</td></tr><tr><td>32</td></tr><tr><td>46</td></tr><tr><td>29</td></tr><tr><td>41</td></tr><tr><td>30</td></tr><tr><td>54</td></tr><tr><td>28</td></tr><tr><td>41</td></tr><tr><td>36</td></tr><tr><td>34</td></tr><tr><td>32</td></tr><tr><td>33</td></tr><tr><td>38</td></tr><tr><td>47</td></tr><tr><td>35</td></tr><tr><td>45</td></tr><tr><td>32</td></tr><tr><td>32</td></tr><tr><td>30</td></tr></tbody></table></div>"
            ]
          }
        }
      ],
      "execution_count": null
    },
    {
      "cell_type": "code",
      "source": [
        "#encontrando a distribuição da idade x sexo\n",
        "display(data.select([\"Age\",\"Genre\"]))"
      ],
      "metadata": {
        "id": "Jh2BPC8R3onU",
        "outputId": "04077d60-4ca4-49b7-e41a-c9f37a310d15"
      },
      "outputs": [
        {
          "metadata": {},
          "output_type": "display_data",
          "data": {
            "text/html": [
              "<style scoped>\n  .table-result-container {\n    max-height: 300px;\n    overflow: auto;\n  }\n  table, th, td {\n    border: 1px solid black;\n    border-collapse: collapse;\n  }\n  th, td {\n    padding: 5px;\n  }\n  th {\n    text-align: left;\n  }\n</style><div class='table-result-container'><table class='table-result'><thead style='background-color: white'><tr><th>Age</th><th>Genre</th></tr></thead><tbody><tr><td>19</td><td>Male</td></tr><tr><td>21</td><td>Male</td></tr><tr><td>20</td><td>Female</td></tr><tr><td>23</td><td>Female</td></tr><tr><td>31</td><td>Female</td></tr><tr><td>22</td><td>Female</td></tr><tr><td>35</td><td>Female</td></tr><tr><td>23</td><td>Female</td></tr><tr><td>64</td><td>Male</td></tr><tr><td>30</td><td>Female</td></tr><tr><td>67</td><td>Male</td></tr><tr><td>35</td><td>Female</td></tr><tr><td>58</td><td>Female</td></tr><tr><td>24</td><td>Female</td></tr><tr><td>37</td><td>Male</td></tr><tr><td>22</td><td>Male</td></tr><tr><td>35</td><td>Female</td></tr><tr><td>20</td><td>Male</td></tr><tr><td>52</td><td>Male</td></tr><tr><td>35</td><td>Female</td></tr><tr><td>35</td><td>Male</td></tr><tr><td>25</td><td>Male</td></tr><tr><td>46</td><td>Female</td></tr><tr><td>31</td><td>Male</td></tr><tr><td>54</td><td>Female</td></tr><tr><td>29</td><td>Male</td></tr><tr><td>45</td><td>Female</td></tr><tr><td>35</td><td>Male</td></tr><tr><td>40</td><td>Female</td></tr><tr><td>23</td><td>Female</td></tr><tr><td>60</td><td>Male</td></tr><tr><td>21</td><td>Female</td></tr><tr><td>53</td><td>Male</td></tr><tr><td>18</td><td>Male</td></tr><tr><td>49</td><td>Female</td></tr><tr><td>21</td><td>Female</td></tr><tr><td>42</td><td>Female</td></tr><tr><td>30</td><td>Female</td></tr><tr><td>36</td><td>Female</td></tr><tr><td>20</td><td>Female</td></tr><tr><td>65</td><td>Female</td></tr><tr><td>24</td><td>Male</td></tr><tr><td>48</td><td>Male</td></tr><tr><td>31</td><td>Female</td></tr><tr><td>49</td><td>Female</td></tr><tr><td>24</td><td>Female</td></tr><tr><td>50</td><td>Female</td></tr><tr><td>27</td><td>Female</td></tr><tr><td>29</td><td>Female</td></tr><tr><td>31</td><td>Female</td></tr><tr><td>49</td><td>Female</td></tr><tr><td>33</td><td>Male</td></tr><tr><td>31</td><td>Female</td></tr><tr><td>59</td><td>Male</td></tr><tr><td>50</td><td>Female</td></tr><tr><td>47</td><td>Male</td></tr><tr><td>51</td><td>Female</td></tr><tr><td>69</td><td>Male</td></tr><tr><td>27</td><td>Female</td></tr><tr><td>53</td><td>Male</td></tr><tr><td>70</td><td>Male</td></tr><tr><td>19</td><td>Male</td></tr><tr><td>67</td><td>Female</td></tr><tr><td>54</td><td>Female</td></tr><tr><td>63</td><td>Male</td></tr><tr><td>18</td><td>Male</td></tr><tr><td>43</td><td>Female</td></tr><tr><td>68</td><td>Female</td></tr><tr><td>19</td><td>Male</td></tr><tr><td>32</td><td>Female</td></tr><tr><td>70</td><td>Male</td></tr><tr><td>47</td><td>Female</td></tr><tr><td>60</td><td>Female</td></tr><tr><td>60</td><td>Female</td></tr><tr><td>59</td><td>Male</td></tr><tr><td>26</td><td>Male</td></tr><tr><td>45</td><td>Female</td></tr><tr><td>40</td><td>Male</td></tr><tr><td>23</td><td>Female</td></tr><tr><td>49</td><td>Female</td></tr><tr><td>57</td><td>Male</td></tr><tr><td>38</td><td>Male</td></tr><tr><td>67</td><td>Male</td></tr><tr><td>46</td><td>Female</td></tr><tr><td>21</td><td>Female</td></tr><tr><td>48</td><td>Male</td></tr><tr><td>55</td><td>Female</td></tr><tr><td>22</td><td>Female</td></tr><tr><td>34</td><td>Female</td></tr><tr><td>50</td><td>Female</td></tr><tr><td>68</td><td>Female</td></tr><tr><td>18</td><td>Male</td></tr><tr><td>48</td><td>Male</td></tr><tr><td>40</td><td>Female</td></tr><tr><td>32</td><td>Female</td></tr><tr><td>24</td><td>Male</td></tr><tr><td>47</td><td>Female</td></tr><tr><td>27</td><td>Female</td></tr><tr><td>48</td><td>Male</td></tr><tr><td>20</td><td>Male</td></tr><tr><td>23</td><td>Female</td></tr><tr><td>49</td><td>Female</td></tr><tr><td>67</td><td>Male</td></tr><tr><td>26</td><td>Male</td></tr><tr><td>49</td><td>Male</td></tr><tr><td>21</td><td>Female</td></tr><tr><td>66</td><td>Female</td></tr><tr><td>54</td><td>Male</td></tr><tr><td>68</td><td>Male</td></tr><tr><td>66</td><td>Male</td></tr><tr><td>65</td><td>Male</td></tr><tr><td>19</td><td>Female</td></tr><tr><td>38</td><td>Female</td></tr><tr><td>19</td><td>Male</td></tr><tr><td>18</td><td>Female</td></tr><tr><td>19</td><td>Female</td></tr><tr><td>63</td><td>Female</td></tr><tr><td>49</td><td>Female</td></tr><tr><td>51</td><td>Female</td></tr><tr><td>50</td><td>Female</td></tr><tr><td>27</td><td>Male</td></tr><tr><td>38</td><td>Female</td></tr><tr><td>40</td><td>Female</td></tr><tr><td>39</td><td>Male</td></tr><tr><td>23</td><td>Female</td></tr><tr><td>31</td><td>Female</td></tr><tr><td>43</td><td>Male</td></tr><tr><td>40</td><td>Male</td></tr><tr><td>59</td><td>Male</td></tr><tr><td>38</td><td>Male</td></tr><tr><td>47</td><td>Male</td></tr><tr><td>39</td><td>Male</td></tr><tr><td>25</td><td>Female</td></tr><tr><td>31</td><td>Female</td></tr><tr><td>20</td><td>Male</td></tr><tr><td>29</td><td>Female</td></tr><tr><td>44</td><td>Female</td></tr><tr><td>32</td><td>Male</td></tr><tr><td>19</td><td>Male</td></tr><tr><td>35</td><td>Female</td></tr><tr><td>57</td><td>Female</td></tr><tr><td>32</td><td>Male</td></tr><tr><td>28</td><td>Female</td></tr><tr><td>32</td><td>Female</td></tr><tr><td>25</td><td>Male</td></tr><tr><td>28</td><td>Male</td></tr><tr><td>48</td><td>Male</td></tr><tr><td>32</td><td>Female</td></tr><tr><td>34</td><td>Female</td></tr><tr><td>34</td><td>Male</td></tr><tr><td>43</td><td>Male</td></tr><tr><td>39</td><td>Male</td></tr><tr><td>44</td><td>Female</td></tr><tr><td>38</td><td>Female</td></tr><tr><td>47</td><td>Female</td></tr><tr><td>27</td><td>Female</td></tr><tr><td>37</td><td>Male</td></tr><tr><td>30</td><td>Female</td></tr><tr><td>34</td><td>Male</td></tr><tr><td>30</td><td>Female</td></tr><tr><td>56</td><td>Female</td></tr><tr><td>29</td><td>Female</td></tr><tr><td>19</td><td>Male</td></tr><tr><td>31</td><td>Female</td></tr><tr><td>50</td><td>Male</td></tr><tr><td>36</td><td>Female</td></tr><tr><td>42</td><td>Male</td></tr><tr><td>33</td><td>Female</td></tr><tr><td>36</td><td>Female</td></tr><tr><td>32</td><td>Male</td></tr><tr><td>40</td><td>Male</td></tr><tr><td>28</td><td>Male</td></tr><tr><td>36</td><td>Male</td></tr><tr><td>36</td><td>Male</td></tr><tr><td>52</td><td>Female</td></tr><tr><td>30</td><td>Female</td></tr><tr><td>58</td><td>Male</td></tr><tr><td>27</td><td>Male</td></tr><tr><td>59</td><td>Male</td></tr><tr><td>35</td><td>Male</td></tr><tr><td>37</td><td>Female</td></tr><tr><td>32</td><td>Female</td></tr><tr><td>46</td><td>Male</td></tr><tr><td>29</td><td>Female</td></tr><tr><td>41</td><td>Female</td></tr><tr><td>30</td><td>Male</td></tr><tr><td>54</td><td>Female</td></tr><tr><td>28</td><td>Male</td></tr><tr><td>41</td><td>Female</td></tr><tr><td>36</td><td>Female</td></tr><tr><td>34</td><td>Female</td></tr><tr><td>32</td><td>Female</td></tr><tr><td>33</td><td>Male</td></tr><tr><td>38</td><td>Female</td></tr><tr><td>47</td><td>Female</td></tr><tr><td>35</td><td>Female</td></tr><tr><td>45</td><td>Female</td></tr><tr><td>32</td><td>Male</td></tr><tr><td>32</td><td>Male</td></tr><tr><td>30</td><td>Male</td></tr></tbody></table></div>"
            ]
          }
        }
      ],
      "execution_count": null
    },
    {
      "cell_type": "code",
      "source": [
        "#encontrando a distribuição da idade x sexo\n",
        "display(data.select([\"Age\",\"Genre\"]))"
      ],
      "metadata": {
        "id": "3zKho3iP3onU",
        "outputId": "f39daf7c-54ef-4dee-d0bd-686ed767de6e"
      },
      "outputs": [
        {
          "metadata": {},
          "output_type": "display_data",
          "data": {
            "text/html": [
              "<style scoped>\n  .table-result-container {\n    max-height: 300px;\n    overflow: auto;\n  }\n  table, th, td {\n    border: 1px solid black;\n    border-collapse: collapse;\n  }\n  th, td {\n    padding: 5px;\n  }\n  th {\n    text-align: left;\n  }\n</style><div class='table-result-container'><table class='table-result'><thead style='background-color: white'><tr><th>Age</th><th>Genre</th></tr></thead><tbody><tr><td>19</td><td>Male</td></tr><tr><td>21</td><td>Male</td></tr><tr><td>20</td><td>Female</td></tr><tr><td>23</td><td>Female</td></tr><tr><td>31</td><td>Female</td></tr><tr><td>22</td><td>Female</td></tr><tr><td>35</td><td>Female</td></tr><tr><td>23</td><td>Female</td></tr><tr><td>64</td><td>Male</td></tr><tr><td>30</td><td>Female</td></tr><tr><td>67</td><td>Male</td></tr><tr><td>35</td><td>Female</td></tr><tr><td>58</td><td>Female</td></tr><tr><td>24</td><td>Female</td></tr><tr><td>37</td><td>Male</td></tr><tr><td>22</td><td>Male</td></tr><tr><td>35</td><td>Female</td></tr><tr><td>20</td><td>Male</td></tr><tr><td>52</td><td>Male</td></tr><tr><td>35</td><td>Female</td></tr><tr><td>35</td><td>Male</td></tr><tr><td>25</td><td>Male</td></tr><tr><td>46</td><td>Female</td></tr><tr><td>31</td><td>Male</td></tr><tr><td>54</td><td>Female</td></tr><tr><td>29</td><td>Male</td></tr><tr><td>45</td><td>Female</td></tr><tr><td>35</td><td>Male</td></tr><tr><td>40</td><td>Female</td></tr><tr><td>23</td><td>Female</td></tr><tr><td>60</td><td>Male</td></tr><tr><td>21</td><td>Female</td></tr><tr><td>53</td><td>Male</td></tr><tr><td>18</td><td>Male</td></tr><tr><td>49</td><td>Female</td></tr><tr><td>21</td><td>Female</td></tr><tr><td>42</td><td>Female</td></tr><tr><td>30</td><td>Female</td></tr><tr><td>36</td><td>Female</td></tr><tr><td>20</td><td>Female</td></tr><tr><td>65</td><td>Female</td></tr><tr><td>24</td><td>Male</td></tr><tr><td>48</td><td>Male</td></tr><tr><td>31</td><td>Female</td></tr><tr><td>49</td><td>Female</td></tr><tr><td>24</td><td>Female</td></tr><tr><td>50</td><td>Female</td></tr><tr><td>27</td><td>Female</td></tr><tr><td>29</td><td>Female</td></tr><tr><td>31</td><td>Female</td></tr><tr><td>49</td><td>Female</td></tr><tr><td>33</td><td>Male</td></tr><tr><td>31</td><td>Female</td></tr><tr><td>59</td><td>Male</td></tr><tr><td>50</td><td>Female</td></tr><tr><td>47</td><td>Male</td></tr><tr><td>51</td><td>Female</td></tr><tr><td>69</td><td>Male</td></tr><tr><td>27</td><td>Female</td></tr><tr><td>53</td><td>Male</td></tr><tr><td>70</td><td>Male</td></tr><tr><td>19</td><td>Male</td></tr><tr><td>67</td><td>Female</td></tr><tr><td>54</td><td>Female</td></tr><tr><td>63</td><td>Male</td></tr><tr><td>18</td><td>Male</td></tr><tr><td>43</td><td>Female</td></tr><tr><td>68</td><td>Female</td></tr><tr><td>19</td><td>Male</td></tr><tr><td>32</td><td>Female</td></tr><tr><td>70</td><td>Male</td></tr><tr><td>47</td><td>Female</td></tr><tr><td>60</td><td>Female</td></tr><tr><td>60</td><td>Female</td></tr><tr><td>59</td><td>Male</td></tr><tr><td>26</td><td>Male</td></tr><tr><td>45</td><td>Female</td></tr><tr><td>40</td><td>Male</td></tr><tr><td>23</td><td>Female</td></tr><tr><td>49</td><td>Female</td></tr><tr><td>57</td><td>Male</td></tr><tr><td>38</td><td>Male</td></tr><tr><td>67</td><td>Male</td></tr><tr><td>46</td><td>Female</td></tr><tr><td>21</td><td>Female</td></tr><tr><td>48</td><td>Male</td></tr><tr><td>55</td><td>Female</td></tr><tr><td>22</td><td>Female</td></tr><tr><td>34</td><td>Female</td></tr><tr><td>50</td><td>Female</td></tr><tr><td>68</td><td>Female</td></tr><tr><td>18</td><td>Male</td></tr><tr><td>48</td><td>Male</td></tr><tr><td>40</td><td>Female</td></tr><tr><td>32</td><td>Female</td></tr><tr><td>24</td><td>Male</td></tr><tr><td>47</td><td>Female</td></tr><tr><td>27</td><td>Female</td></tr><tr><td>48</td><td>Male</td></tr><tr><td>20</td><td>Male</td></tr><tr><td>23</td><td>Female</td></tr><tr><td>49</td><td>Female</td></tr><tr><td>67</td><td>Male</td></tr><tr><td>26</td><td>Male</td></tr><tr><td>49</td><td>Male</td></tr><tr><td>21</td><td>Female</td></tr><tr><td>66</td><td>Female</td></tr><tr><td>54</td><td>Male</td></tr><tr><td>68</td><td>Male</td></tr><tr><td>66</td><td>Male</td></tr><tr><td>65</td><td>Male</td></tr><tr><td>19</td><td>Female</td></tr><tr><td>38</td><td>Female</td></tr><tr><td>19</td><td>Male</td></tr><tr><td>18</td><td>Female</td></tr><tr><td>19</td><td>Female</td></tr><tr><td>63</td><td>Female</td></tr><tr><td>49</td><td>Female</td></tr><tr><td>51</td><td>Female</td></tr><tr><td>50</td><td>Female</td></tr><tr><td>27</td><td>Male</td></tr><tr><td>38</td><td>Female</td></tr><tr><td>40</td><td>Female</td></tr><tr><td>39</td><td>Male</td></tr><tr><td>23</td><td>Female</td></tr><tr><td>31</td><td>Female</td></tr><tr><td>43</td><td>Male</td></tr><tr><td>40</td><td>Male</td></tr><tr><td>59</td><td>Male</td></tr><tr><td>38</td><td>Male</td></tr><tr><td>47</td><td>Male</td></tr><tr><td>39</td><td>Male</td></tr><tr><td>25</td><td>Female</td></tr><tr><td>31</td><td>Female</td></tr><tr><td>20</td><td>Male</td></tr><tr><td>29</td><td>Female</td></tr><tr><td>44</td><td>Female</td></tr><tr><td>32</td><td>Male</td></tr><tr><td>19</td><td>Male</td></tr><tr><td>35</td><td>Female</td></tr><tr><td>57</td><td>Female</td></tr><tr><td>32</td><td>Male</td></tr><tr><td>28</td><td>Female</td></tr><tr><td>32</td><td>Female</td></tr><tr><td>25</td><td>Male</td></tr><tr><td>28</td><td>Male</td></tr><tr><td>48</td><td>Male</td></tr><tr><td>32</td><td>Female</td></tr><tr><td>34</td><td>Female</td></tr><tr><td>34</td><td>Male</td></tr><tr><td>43</td><td>Male</td></tr><tr><td>39</td><td>Male</td></tr><tr><td>44</td><td>Female</td></tr><tr><td>38</td><td>Female</td></tr><tr><td>47</td><td>Female</td></tr><tr><td>27</td><td>Female</td></tr><tr><td>37</td><td>Male</td></tr><tr><td>30</td><td>Female</td></tr><tr><td>34</td><td>Male</td></tr><tr><td>30</td><td>Female</td></tr><tr><td>56</td><td>Female</td></tr><tr><td>29</td><td>Female</td></tr><tr><td>19</td><td>Male</td></tr><tr><td>31</td><td>Female</td></tr><tr><td>50</td><td>Male</td></tr><tr><td>36</td><td>Female</td></tr><tr><td>42</td><td>Male</td></tr><tr><td>33</td><td>Female</td></tr><tr><td>36</td><td>Female</td></tr><tr><td>32</td><td>Male</td></tr><tr><td>40</td><td>Male</td></tr><tr><td>28</td><td>Male</td></tr><tr><td>36</td><td>Male</td></tr><tr><td>36</td><td>Male</td></tr><tr><td>52</td><td>Female</td></tr><tr><td>30</td><td>Female</td></tr><tr><td>58</td><td>Male</td></tr><tr><td>27</td><td>Male</td></tr><tr><td>59</td><td>Male</td></tr><tr><td>35</td><td>Male</td></tr><tr><td>37</td><td>Female</td></tr><tr><td>32</td><td>Female</td></tr><tr><td>46</td><td>Male</td></tr><tr><td>29</td><td>Female</td></tr><tr><td>41</td><td>Female</td></tr><tr><td>30</td><td>Male</td></tr><tr><td>54</td><td>Female</td></tr><tr><td>28</td><td>Male</td></tr><tr><td>41</td><td>Female</td></tr><tr><td>36</td><td>Female</td></tr><tr><td>34</td><td>Female</td></tr><tr><td>32</td><td>Female</td></tr><tr><td>33</td><td>Male</td></tr><tr><td>38</td><td>Female</td></tr><tr><td>47</td><td>Female</td></tr><tr><td>35</td><td>Female</td></tr><tr><td>45</td><td>Female</td></tr><tr><td>32</td><td>Male</td></tr><tr><td>32</td><td>Male</td></tr><tr><td>30</td><td>Male</td></tr></tbody></table></div>"
            ]
          }
        }
      ],
      "execution_count": null
    },
    {
      "cell_type": "markdown",
      "source": [
        "A variável \"Spending Score (1-100)\" ou pontuação de consumo, corresponde à nota atribuída pelo shopping aos consumidores. Quanto mais próxima de 100 indica que o consumidor é mais \"lucrativo\" para o shopping."
      ],
      "metadata": {
        "id": "ByuTW7q73onU"
      }
    },
    {
      "cell_type": "code",
      "source": [
        "#encontrando as notas atribuidas por gênero \n",
        "display(data.select([\"Spending Score (1-100)\",\"Genre\"]))"
      ],
      "metadata": {
        "id": "hRvjSK9L3onV",
        "outputId": "d9e2c84e-c83a-4f2a-87fc-9b6bd3820cd7"
      },
      "outputs": [
        {
          "metadata": {},
          "output_type": "display_data",
          "data": {
            "text/html": [
              "<style scoped>\n  .table-result-container {\n    max-height: 300px;\n    overflow: auto;\n  }\n  table, th, td {\n    border: 1px solid black;\n    border-collapse: collapse;\n  }\n  th, td {\n    padding: 5px;\n  }\n  th {\n    text-align: left;\n  }\n</style><div class='table-result-container'><table class='table-result'><thead style='background-color: white'><tr><th>Spending Score (1-100)</th><th>Genre</th></tr></thead><tbody><tr><td>39</td><td>Male</td></tr><tr><td>81</td><td>Male</td></tr><tr><td>6</td><td>Female</td></tr><tr><td>77</td><td>Female</td></tr><tr><td>40</td><td>Female</td></tr><tr><td>76</td><td>Female</td></tr><tr><td>6</td><td>Female</td></tr><tr><td>94</td><td>Female</td></tr><tr><td>3</td><td>Male</td></tr><tr><td>72</td><td>Female</td></tr><tr><td>14</td><td>Male</td></tr><tr><td>99</td><td>Female</td></tr><tr><td>15</td><td>Female</td></tr><tr><td>77</td><td>Female</td></tr><tr><td>13</td><td>Male</td></tr><tr><td>79</td><td>Male</td></tr><tr><td>35</td><td>Female</td></tr><tr><td>66</td><td>Male</td></tr><tr><td>29</td><td>Male</td></tr><tr><td>98</td><td>Female</td></tr><tr><td>35</td><td>Male</td></tr><tr><td>73</td><td>Male</td></tr><tr><td>5</td><td>Female</td></tr><tr><td>73</td><td>Male</td></tr><tr><td>14</td><td>Female</td></tr><tr><td>82</td><td>Male</td></tr><tr><td>32</td><td>Female</td></tr><tr><td>61</td><td>Male</td></tr><tr><td>31</td><td>Female</td></tr><tr><td>87</td><td>Female</td></tr><tr><td>4</td><td>Male</td></tr><tr><td>73</td><td>Female</td></tr><tr><td>4</td><td>Male</td></tr><tr><td>92</td><td>Male</td></tr><tr><td>14</td><td>Female</td></tr><tr><td>81</td><td>Female</td></tr><tr><td>17</td><td>Female</td></tr><tr><td>73</td><td>Female</td></tr><tr><td>26</td><td>Female</td></tr><tr><td>75</td><td>Female</td></tr><tr><td>35</td><td>Female</td></tr><tr><td>92</td><td>Male</td></tr><tr><td>36</td><td>Male</td></tr><tr><td>61</td><td>Female</td></tr><tr><td>28</td><td>Female</td></tr><tr><td>65</td><td>Female</td></tr><tr><td>55</td><td>Female</td></tr><tr><td>47</td><td>Female</td></tr><tr><td>42</td><td>Female</td></tr><tr><td>42</td><td>Female</td></tr><tr><td>52</td><td>Female</td></tr><tr><td>60</td><td>Male</td></tr><tr><td>54</td><td>Female</td></tr><tr><td>60</td><td>Male</td></tr><tr><td>45</td><td>Female</td></tr><tr><td>41</td><td>Male</td></tr><tr><td>50</td><td>Female</td></tr><tr><td>46</td><td>Male</td></tr><tr><td>51</td><td>Female</td></tr><tr><td>46</td><td>Male</td></tr><tr><td>56</td><td>Male</td></tr><tr><td>55</td><td>Male</td></tr><tr><td>52</td><td>Female</td></tr><tr><td>59</td><td>Female</td></tr><tr><td>51</td><td>Male</td></tr><tr><td>59</td><td>Male</td></tr><tr><td>50</td><td>Female</td></tr><tr><td>48</td><td>Female</td></tr><tr><td>59</td><td>Male</td></tr><tr><td>47</td><td>Female</td></tr><tr><td>55</td><td>Male</td></tr><tr><td>42</td><td>Female</td></tr><tr><td>49</td><td>Female</td></tr><tr><td>56</td><td>Female</td></tr><tr><td>47</td><td>Male</td></tr><tr><td>54</td><td>Male</td></tr><tr><td>53</td><td>Female</td></tr><tr><td>48</td><td>Male</td></tr><tr><td>52</td><td>Female</td></tr><tr><td>42</td><td>Female</td></tr><tr><td>51</td><td>Male</td></tr><tr><td>55</td><td>Male</td></tr><tr><td>41</td><td>Male</td></tr><tr><td>44</td><td>Female</td></tr><tr><td>57</td><td>Female</td></tr><tr><td>46</td><td>Male</td></tr><tr><td>58</td><td>Female</td></tr><tr><td>55</td><td>Female</td></tr><tr><td>60</td><td>Female</td></tr><tr><td>46</td><td>Female</td></tr><tr><td>55</td><td>Female</td></tr><tr><td>41</td><td>Male</td></tr><tr><td>49</td><td>Male</td></tr><tr><td>40</td><td>Female</td></tr><tr><td>42</td><td>Female</td></tr><tr><td>52</td><td>Male</td></tr><tr><td>47</td><td>Female</td></tr><tr><td>50</td><td>Female</td></tr><tr><td>42</td><td>Male</td></tr><tr><td>49</td><td>Male</td></tr><tr><td>41</td><td>Female</td></tr><tr><td>48</td><td>Female</td></tr><tr><td>59</td><td>Male</td></tr><tr><td>55</td><td>Male</td></tr><tr><td>56</td><td>Male</td></tr><tr><td>42</td><td>Female</td></tr><tr><td>50</td><td>Female</td></tr><tr><td>46</td><td>Male</td></tr><tr><td>43</td><td>Male</td></tr><tr><td>48</td><td>Male</td></tr><tr><td>52</td><td>Male</td></tr><tr><td>54</td><td>Female</td></tr><tr><td>42</td><td>Female</td></tr><tr><td>46</td><td>Male</td></tr><tr><td>48</td><td>Female</td></tr><tr><td>50</td><td>Female</td></tr><tr><td>43</td><td>Female</td></tr><tr><td>59</td><td>Female</td></tr><tr><td>43</td><td>Female</td></tr><tr><td>57</td><td>Female</td></tr><tr><td>56</td><td>Male</td></tr><tr><td>40</td><td>Female</td></tr><tr><td>58</td><td>Female</td></tr><tr><td>91</td><td>Male</td></tr><tr><td>29</td><td>Female</td></tr><tr><td>77</td><td>Female</td></tr><tr><td>35</td><td>Male</td></tr><tr><td>95</td><td>Male</td></tr><tr><td>11</td><td>Male</td></tr><tr><td>75</td><td>Male</td></tr><tr><td>9</td><td>Male</td></tr><tr><td>75</td><td>Male</td></tr><tr><td>34</td><td>Female</td></tr><tr><td>71</td><td>Female</td></tr><tr><td>5</td><td>Male</td></tr><tr><td>88</td><td>Female</td></tr><tr><td>7</td><td>Female</td></tr><tr><td>73</td><td>Male</td></tr><tr><td>10</td><td>Male</td></tr><tr><td>72</td><td>Female</td></tr><tr><td>5</td><td>Female</td></tr><tr><td>93</td><td>Male</td></tr><tr><td>40</td><td>Female</td></tr><tr><td>87</td><td>Female</td></tr><tr><td>12</td><td>Male</td></tr><tr><td>97</td><td>Male</td></tr><tr><td>36</td><td>Male</td></tr><tr><td>74</td><td>Female</td></tr><tr><td>22</td><td>Female</td></tr><tr><td>90</td><td>Male</td></tr><tr><td>17</td><td>Male</td></tr><tr><td>88</td><td>Male</td></tr><tr><td>20</td><td>Female</td></tr><tr><td>76</td><td>Female</td></tr><tr><td>16</td><td>Female</td></tr><tr><td>89</td><td>Female</td></tr><tr><td>1</td><td>Male</td></tr><tr><td>78</td><td>Female</td></tr><tr><td>1</td><td>Male</td></tr><tr><td>73</td><td>Female</td></tr><tr><td>35</td><td>Female</td></tr><tr><td>83</td><td>Female</td></tr><tr><td>5</td><td>Male</td></tr><tr><td>93</td><td>Female</td></tr><tr><td>26</td><td>Male</td></tr><tr><td>75</td><td>Female</td></tr><tr><td>20</td><td>Male</td></tr><tr><td>95</td><td>Female</td></tr><tr><td>27</td><td>Female</td></tr><tr><td>63</td><td>Male</td></tr><tr><td>13</td><td>Male</td></tr><tr><td>75</td><td>Male</td></tr><tr><td>10</td><td>Male</td></tr><tr><td>92</td><td>Male</td></tr><tr><td>13</td><td>Female</td></tr><tr><td>86</td><td>Female</td></tr><tr><td>15</td><td>Male</td></tr><tr><td>69</td><td>Male</td></tr><tr><td>14</td><td>Male</td></tr><tr><td>90</td><td>Male</td></tr><tr><td>32</td><td>Female</td></tr><tr><td>86</td><td>Female</td></tr><tr><td>15</td><td>Male</td></tr><tr><td>88</td><td>Female</td></tr><tr><td>39</td><td>Female</td></tr><tr><td>97</td><td>Male</td></tr><tr><td>24</td><td>Female</td></tr><tr><td>68</td><td>Male</td></tr><tr><td>17</td><td>Female</td></tr><tr><td>85</td><td>Female</td></tr><tr><td>23</td><td>Female</td></tr><tr><td>69</td><td>Female</td></tr><tr><td>8</td><td>Male</td></tr><tr><td>91</td><td>Female</td></tr><tr><td>16</td><td>Female</td></tr><tr><td>79</td><td>Female</td></tr><tr><td>28</td><td>Female</td></tr><tr><td>74</td><td>Male</td></tr><tr><td>18</td><td>Male</td></tr><tr><td>83</td><td>Male</td></tr></tbody></table></div>"
            ]
          }
        }
      ],
      "execution_count": null
    },
    {
      "cell_type": "markdown",
      "source": [
        "Analisando a correlação entre Idade e Nota Atribuída"
      ],
      "metadata": {
        "id": "qsX2FXKU3onW"
      }
    },
    {
      "cell_type": "code",
      "source": [
        "#Analisando as correlações\n",
        "from pyspark.mllib.stat import Statistics"
      ],
      "metadata": {
        "id": "jldO_j-t3onW",
        "outputId": "081731e9-49f1-4267-bc82-2d645c8265fb"
      },
      "outputs": [
        {
          "metadata": {},
          "output_type": "display_data",
          "data": {
            "text/html": [
              "<style scoped>\n  .ansiout {\n    display: block;\n    unicode-bidi: embed;\n    white-space: pre-wrap;\n    word-wrap: break-word;\n    word-break: break-all;\n    font-family: \"Source Code Pro\", \"Menlo\", monospace;;\n    font-size: 13px;\n    color: #555;\n    margin-left: 4px;\n    line-height: 19px;\n  }\n</style>\n<div class=\"ansiout\"></div>"
            ]
          }
        }
      ],
      "execution_count": null
    },
    {
      "cell_type": "code",
      "source": [
        "rdd_1=data.select(\"Spending Score (1-100)\").rdd.flatMap(lambda x:x)  #utilizada para transforma das colunas do dataframe em colunas para serem empregadas na análise de correlaçoes\n",
        "rdd_2=data.select(\"Age\").rdd.flatMap(lambda x:x)"
      ],
      "metadata": {
        "id": "poL4qqxA3onW",
        "outputId": "00063be1-bc09-4780-fede-ef071cbd1d1b"
      },
      "outputs": [
        {
          "metadata": {},
          "output_type": "display_data",
          "data": {
            "text/html": [
              "<style scoped>\n  .ansiout {\n    display: block;\n    unicode-bidi: embed;\n    white-space: pre-wrap;\n    word-wrap: break-word;\n    word-break: break-all;\n    font-family: \"Source Code Pro\", \"Menlo\", monospace;;\n    font-size: 13px;\n    color: #555;\n    margin-left: 4px;\n    line-height: 19px;\n  }\n</style>\n<div class=\"ansiout\"></div>"
            ]
          }
        }
      ],
      "execution_count": null
    },
    {
      "cell_type": "code",
      "source": [
        "Statistics.corr(rdd_1,rdd_2,method=\"pearson\")  #definindo a coeficiente de correlação de pearson "
      ],
      "metadata": {
        "id": "DRk5-vq43onX",
        "outputId": "96016a40-f0d9-445e-f91e-6d5c2bf52a08"
      },
      "outputs": [
        {
          "metadata": {},
          "output_type": "display_data",
          "data": {
            "text/html": [
              "<style scoped>\n  .ansiout {\n    display: block;\n    unicode-bidi: embed;\n    white-space: pre-wrap;\n    word-wrap: break-word;\n    word-break: break-all;\n    font-family: \"Source Code Pro\", \"Menlo\", monospace;;\n    font-size: 13px;\n    color: #555;\n    margin-left: 4px;\n    line-height: 19px;\n  }\n</style>\n<div class=\"ansiout\">Out[22]: -0.32722684603908925</div>"
            ]
          }
        }
      ],
      "execution_count": null
    },
    {
      "cell_type": "code",
      "source": [
        "data.stat.corr(\"Age\",\"Annual Income (k$)\",method=\"pearson\")"
      ],
      "metadata": {
        "id": "4h2T_49w3onX",
        "outputId": "c92fa709-2678-42c6-ffaf-cfa9b0a149e7"
      },
      "outputs": [
        {
          "metadata": {},
          "output_type": "display_data",
          "data": {
            "text/html": [
              "<style scoped>\n  .ansiout {\n    display: block;\n    unicode-bidi: embed;\n    white-space: pre-wrap;\n    word-wrap: break-word;\n    word-break: break-all;\n    font-family: \"Source Code Pro\", \"Menlo\", monospace;;\n    font-size: 13px;\n    color: #555;\n    margin-left: 4px;\n    line-height: 19px;\n  }\n</style>\n<div class=\"ansiout\">Out[23]: -0.01239804273606026</div>"
            ]
          }
        }
      ],
      "execution_count": null
    },
    {
      "cell_type": "markdown",
      "source": [
        "Analisando a correlação por gênero"
      ],
      "metadata": {
        "id": "-VkUFF3f3onX"
      }
    },
    {
      "cell_type": "code",
      "source": [
        "#Selecionando os homens\n",
        "homens=data[data.Genre=='Male']\n",
        "homens.show()"
      ],
      "metadata": {
        "id": "knR6-Jds3onX",
        "outputId": "9acbd3dd-6c99-41f8-c139-5def26aeea39"
      },
      "outputs": [
        {
          "metadata": {},
          "output_type": "display_data",
          "data": {
            "text/html": [
              "<style scoped>\n  .ansiout {\n    display: block;\n    unicode-bidi: embed;\n    white-space: pre-wrap;\n    word-wrap: break-word;\n    word-break: break-all;\n    font-family: \"Source Code Pro\", \"Menlo\", monospace;;\n    font-size: 13px;\n    color: #555;\n    margin-left: 4px;\n    line-height: 19px;\n  }\n</style>\n<div class=\"ansiout\">+----------+-----+---+------------------+----------------------+\nCustomerID|Genre|Age|Annual Income (k$)|Spending Score (1-100)|\n+----------+-----+---+------------------+----------------------+\n         1| Male| 19|                15|                    39|\n         2| Male| 21|                15|                    81|\n         9| Male| 64|                19|                     3|\n        11| Male| 67|                19|                    14|\n        15| Male| 37|                20|                    13|\n        16| Male| 22|                20|                    79|\n        18| Male| 20|                21|                    66|\n        19| Male| 52|                23|                    29|\n        21| Male| 35|                24|                    35|\n        22| Male| 25|                24|                    73|\n        24| Male| 31|                25|                    73|\n        26| Male| 29|                28|                    82|\n        28| Male| 35|                28|                    61|\n        31| Male| 60|                30|                     4|\n        33| Male| 53|                33|                     4|\n        34| Male| 18|                33|                    92|\n        42| Male| 24|                38|                    92|\n        43| Male| 48|                39|                    36|\n        52| Male| 33|                42|                    60|\n        54| Male| 59|                43|                    60|\n+----------+-----+---+------------------+----------------------+\nonly showing top 20 rows\n\n</div>"
            ]
          }
        }
      ],
      "execution_count": null
    },
    {
      "cell_type": "code",
      "source": [
        "#selecionando mulheres\n",
        "mulheres=data[data.Genre=='Female']\n",
        "mulheres.show()"
      ],
      "metadata": {
        "id": "-2jo0LjP3onY",
        "outputId": "ac8a331a-3e3a-4085-ba80-def8509f07e2"
      },
      "outputs": [
        {
          "metadata": {},
          "output_type": "display_data",
          "data": {
            "text/html": [
              "<style scoped>\n  .ansiout {\n    display: block;\n    unicode-bidi: embed;\n    white-space: pre-wrap;\n    word-wrap: break-word;\n    word-break: break-all;\n    font-family: \"Source Code Pro\", \"Menlo\", monospace;;\n    font-size: 13px;\n    color: #555;\n    margin-left: 4px;\n    line-height: 19px;\n  }\n</style>\n<div class=\"ansiout\">+----------+------+---+------------------+----------------------+\nCustomerID| Genre|Age|Annual Income (k$)|Spending Score (1-100)|\n+----------+------+---+------------------+----------------------+\n         3|Female| 20|                16|                     6|\n         4|Female| 23|                16|                    77|\n         5|Female| 31|                17|                    40|\n         6|Female| 22|                17|                    76|\n         7|Female| 35|                18|                     6|\n         8|Female| 23|                18|                    94|\n        10|Female| 30|                19|                    72|\n        12|Female| 35|                19|                    99|\n        13|Female| 58|                20|                    15|\n        14|Female| 24|                20|                    77|\n        17|Female| 35|                21|                    35|\n        20|Female| 35|                23|                    98|\n        23|Female| 46|                25|                     5|\n        25|Female| 54|                28|                    14|\n        27|Female| 45|                28|                    32|\n        29|Female| 40|                29|                    31|\n        30|Female| 23|                29|                    87|\n        32|Female| 21|                30|                    73|\n        35|Female| 49|                33|                    14|\n        36|Female| 21|                33|                    81|\n+----------+------+---+------------------+----------------------+\nonly showing top 20 rows\n\n</div>"
            ]
          }
        }
      ],
      "execution_count": null
    },
    {
      "cell_type": "code",
      "source": [
        "#correlação entre Idade e o Salário Anual - Homens\n",
        "homens.stat.corr(\"Age\",\"Spending Score (1-100)\",method=\"pearson\")"
      ],
      "metadata": {
        "id": "8lgG8yQC3onY",
        "outputId": "c676f5fa-b10c-4735-fb1d-eee8d6605b59"
      },
      "outputs": [
        {
          "metadata": {},
          "output_type": "display_data",
          "data": {
            "text/html": [
              "<style scoped>\n  .ansiout {\n    display: block;\n    unicode-bidi: embed;\n    white-space: pre-wrap;\n    word-wrap: break-word;\n    word-break: break-all;\n    font-family: \"Source Code Pro\", \"Menlo\", monospace;;\n    font-size: 13px;\n    color: #555;\n    margin-left: 4px;\n    line-height: 19px;\n  }\n</style>\n<div class=\"ansiout\">Out[26]: -0.27962764627493125</div>"
            ]
          }
        }
      ],
      "execution_count": null
    },
    {
      "cell_type": "code",
      "source": [
        "#correlação entre Idade e o Salário Anual - Homens\n",
        "mulheres.stat.corr(\"Age\",\"Spending Score (1-100)\",method=\"pearson\")"
      ],
      "metadata": {
        "id": "hgw7TDSf3onZ",
        "outputId": "6846e759-ca4b-405c-b294-ad3576a2f848"
      },
      "outputs": [
        {
          "metadata": {},
          "output_type": "display_data",
          "data": {
            "text/html": [
              "<style scoped>\n  .ansiout {\n    display: block;\n    unicode-bidi: embed;\n    white-space: pre-wrap;\n    word-wrap: break-word;\n    word-break: break-all;\n    font-family: \"Source Code Pro\", \"Menlo\", monospace;;\n    font-size: 13px;\n    color: #555;\n    margin-left: 4px;\n    line-height: 19px;\n  }\n</style>\n<div class=\"ansiout\">Out[27]: -0.3754385837780473</div>"
            ]
          }
        }
      ],
      "execution_count": null
    },
    {
      "cell_type": "markdown",
      "source": [
        "Aplicando o Kmeans"
      ],
      "metadata": {
        "id": "zfQBckRP3ona"
      }
    },
    {
      "cell_type": "code",
      "source": [
        "from pyspark.ml.evaluation import ClusteringEvaluator  #biblioteca utilizada para a avaliação em cada um dos clusters\n",
        "from pyspark.ml.clustering import KMeans #biblioteca utilizada para a criação do modelo de clusterização utilizando o K-means"
      ],
      "metadata": {
        "id": "IyXrUxjo3ona",
        "outputId": "a17b33f1-5217-46a8-fb92-5a44b79eac03"
      },
      "outputs": [
        {
          "metadata": {},
          "output_type": "display_data",
          "data": {
            "text/html": [
              "<style scoped>\n  .ansiout {\n    display: block;\n    unicode-bidi: embed;\n    white-space: pre-wrap;\n    word-wrap: break-word;\n    word-break: break-all;\n    font-family: \"Source Code Pro\", \"Menlo\", monospace;;\n    font-size: 13px;\n    color: #555;\n    margin-left: 4px;\n    line-height: 19px;\n  }\n</style>\n<div class=\"ansiout\"></div>"
            ]
          }
        }
      ],
      "execution_count": null
    },
    {
      "cell_type": "code",
      "source": [
        "from pyspark.ml.feature import VectorAssembler  #transformando os dados em vetores de características\n",
        "\n",
        "vecAssembler = VectorAssembler(inputCols=[\"Spending Score (1-100)\",\"Annual Income (k$)\"], outputCol=\"features\") #utilizada para transformar os dados em um vetor (define o objeto)\n",
        "new_df = vecAssembler.transform(data) #Aplico a transformação\n",
        "new_df.show()"
      ],
      "metadata": {
        "id": "28fqjisa3ona",
        "outputId": "0185327b-8c8b-4933-e218-8098fe73595b"
      },
      "outputs": [
        {
          "metadata": {},
          "output_type": "display_data",
          "data": {
            "text/html": [
              "<style scoped>\n  .ansiout {\n    display: block;\n    unicode-bidi: embed;\n    white-space: pre-wrap;\n    word-wrap: break-word;\n    word-break: break-all;\n    font-family: \"Source Code Pro\", \"Menlo\", monospace;;\n    font-size: 13px;\n    color: #555;\n    margin-left: 4px;\n    line-height: 19px;\n  }\n</style>\n<div class=\"ansiout\">+----------+------+---+------------------+----------------------+-----------+\nCustomerID| Genre|Age|Annual Income (k$)|Spending Score (1-100)|   features|\n+----------+------+---+------------------+----------------------+-----------+\n         1|  Male| 19|                15|                    39|[39.0,15.0]|\n         2|  Male| 21|                15|                    81|[81.0,15.0]|\n         3|Female| 20|                16|                     6| [6.0,16.0]|\n         4|Female| 23|                16|                    77|[77.0,16.0]|\n         5|Female| 31|                17|                    40|[40.0,17.0]|\n         6|Female| 22|                17|                    76|[76.0,17.0]|\n         7|Female| 35|                18|                     6| [6.0,18.0]|\n         8|Female| 23|                18|                    94|[94.0,18.0]|\n         9|  Male| 64|                19|                     3| [3.0,19.0]|\n        10|Female| 30|                19|                    72|[72.0,19.0]|\n        11|  Male| 67|                19|                    14|[14.0,19.0]|\n        12|Female| 35|                19|                    99|[99.0,19.0]|\n        13|Female| 58|                20|                    15|[15.0,20.0]|\n        14|Female| 24|                20|                    77|[77.0,20.0]|\n        15|  Male| 37|                20|                    13|[13.0,20.0]|\n        16|  Male| 22|                20|                    79|[79.0,20.0]|\n        17|Female| 35|                21|                    35|[35.0,21.0]|\n        18|  Male| 20|                21|                    66|[66.0,21.0]|\n        19|  Male| 52|                23|                    29|[29.0,23.0]|\n        20|Female| 35|                23|                    98|[98.0,23.0]|\n+----------+------+---+------------------+----------------------+-----------+\nonly showing top 20 rows\n\n</div>"
            ]
          }
        }
      ],
      "execution_count": null
    },
    {
      "cell_type": "code",
      "source": [
        "#aplica o processo de clusterização\n",
        "kmeans = KMeans(k=5, seed=1)  # declara o objeto - 3 clusters \n",
        "model = kmeans.fit(new_df.select('features')) #aplica o treinamento"
      ],
      "metadata": {
        "id": "Pr0Xkytl3onb",
        "outputId": "3a6aa966-b2d8-4478-8026-9bcb54a292c2"
      },
      "outputs": [
        {
          "metadata": {},
          "output_type": "display_data",
          "data": {
            "text/html": [
              "<style scoped>\n  .ansiout {\n    display: block;\n    unicode-bidi: embed;\n    white-space: pre-wrap;\n    word-wrap: break-word;\n    word-break: break-all;\n    font-family: \"Source Code Pro\", \"Menlo\", monospace;;\n    font-size: 13px;\n    color: #555;\n    margin-left: 4px;\n    line-height: 19px;\n  }\n</style>\n<div class=\"ansiout\"></div>"
            ]
          }
        }
      ],
      "execution_count": null
    },
    {
      "cell_type": "code",
      "source": [
        "#cria o dataset com a indicação sobre qual cluster cada conjunto de dados foi adicionado\n",
        "df_final = model.transform(new_df)\n",
        "df_final.show() "
      ],
      "metadata": {
        "id": "w9YZhqMt3onb",
        "outputId": "18a21f5b-55f8-410e-c607-1f5df5ad183a"
      },
      "outputs": [
        {
          "metadata": {},
          "output_type": "display_data",
          "data": {
            "text/html": [
              "<style scoped>\n  .ansiout {\n    display: block;\n    unicode-bidi: embed;\n    white-space: pre-wrap;\n    word-wrap: break-word;\n    word-break: break-all;\n    font-family: \"Source Code Pro\", \"Menlo\", monospace;;\n    font-size: 13px;\n    color: #555;\n    margin-left: 4px;\n    line-height: 19px;\n  }\n</style>\n<div class=\"ansiout\">+----------+------+---+------------------+----------------------+-----------+----------+\nCustomerID| Genre|Age|Annual Income (k$)|Spending Score (1-100)|   features|prediction|\n+----------+------+---+------------------+----------------------+-----------+----------+\n         1|  Male| 19|                15|                    39|[39.0,15.0]|         4|\n         2|  Male| 21|                15|                    81|[81.0,15.0]|         1|\n         3|Female| 20|                16|                     6| [6.0,16.0]|         4|\n         4|Female| 23|                16|                    77|[77.0,16.0]|         1|\n         5|Female| 31|                17|                    40|[40.0,17.0]|         4|\n         6|Female| 22|                17|                    76|[76.0,17.0]|         1|\n         7|Female| 35|                18|                     6| [6.0,18.0]|         4|\n         8|Female| 23|                18|                    94|[94.0,18.0]|         1|\n         9|  Male| 64|                19|                     3| [3.0,19.0]|         4|\n        10|Female| 30|                19|                    72|[72.0,19.0]|         1|\n        11|  Male| 67|                19|                    14|[14.0,19.0]|         4|\n        12|Female| 35|                19|                    99|[99.0,19.0]|         1|\n        13|Female| 58|                20|                    15|[15.0,20.0]|         4|\n        14|Female| 24|                20|                    77|[77.0,20.0]|         1|\n        15|  Male| 37|                20|                    13|[13.0,20.0]|         4|\n        16|  Male| 22|                20|                    79|[79.0,20.0]|         1|\n        17|Female| 35|                21|                    35|[35.0,21.0]|         4|\n        18|  Male| 20|                21|                    66|[66.0,21.0]|         1|\n        19|  Male| 52|                23|                    29|[29.0,23.0]|         4|\n        20|Female| 35|                23|                    98|[98.0,23.0]|         1|\n+----------+------+---+------------------+----------------------+-----------+----------+\nonly showing top 20 rows\n\n</div>"
            ]
          }
        }
      ],
      "execution_count": null
    },
    {
      "cell_type": "code",
      "source": [
        "data.describe().show()"
      ],
      "metadata": {
        "id": "gB4286f53onb",
        "outputId": "51cebd02-ebde-42bb-9903-e7352853a196"
      },
      "outputs": [
        {
          "metadata": {},
          "output_type": "display_data",
          "data": {
            "text/html": [
              "<style scoped>\n  .ansiout {\n    display: block;\n    unicode-bidi: embed;\n    white-space: pre-wrap;\n    word-wrap: break-word;\n    word-break: break-all;\n    font-family: \"Source Code Pro\", \"Menlo\", monospace;;\n    font-size: 13px;\n    color: #555;\n    margin-left: 4px;\n    line-height: 19px;\n  }\n</style>\n<div class=\"ansiout\">+-------+------------------+------+-----------------+------------------+----------------------+\nsummary|        CustomerID| Genre|              Age|Annual Income (k$)|Spending Score (1-100)|\n+-------+------------------+------+-----------------+------------------+----------------------+\n  count|               200|   200|              200|               200|                   200|\n   mean|             100.5|  null|            38.85|             60.56|                  50.2|\n stddev|57.879184513951124|  null|13.96900733155888| 26.26472116527124|    25.823521668370173|\n    min|                 1|Female|               18|                15|                     1|\n    max|               200|  Male|               70|               137|                    99|\n+-------+------------------+------+-----------------+------------------+----------------------+\n\n</div>"
            ]
          }
        }
      ],
      "execution_count": null
    },
    {
      "cell_type": "code",
      "source": [
        "df_final.groupby('prediction').count().show()"
      ],
      "metadata": {
        "id": "KubeCmEn3onb",
        "outputId": "94db1000-842a-461c-e86c-534aa93df593"
      },
      "outputs": [
        {
          "metadata": {},
          "output_type": "display_data",
          "data": {
            "text/html": [
              "<style scoped>\n  .ansiout {\n    display: block;\n    unicode-bidi: embed;\n    white-space: pre-wrap;\n    word-wrap: break-word;\n    word-break: break-all;\n    font-family: \"Source Code Pro\", \"Menlo\", monospace;;\n    font-size: 13px;\n    color: #555;\n    margin-left: 4px;\n    line-height: 19px;\n  }\n</style>\n<div class=\"ansiout\">+----------+-----+\nprediction|count|\n+----------+-----+\n         1|   22|\n         3|   35|\n         4|   23|\n         2|   39|\n         0|   81|\n+----------+-----+\n\n</div>"
            ]
          }
        }
      ],
      "execution_count": null
    },
    {
      "cell_type": "code",
      "source": [
        "#transformando os dados utilizando o pandas \n",
        "data_pandas = df_final.toPandas().set_index('CustomerID')\n",
        "data_pandas.head()"
      ],
      "metadata": {
        "id": "pS4SnRJo3onc",
        "outputId": "c6aecf02-aca4-4e0c-c527-f93986fc25af"
      },
      "outputs": [
        {
          "metadata": {},
          "output_type": "display_data",
          "data": {
            "text/html": [
              "<div>\n<style scoped>\n    .dataframe tbody tr th:only-of-type {\n        vertical-align: middle;\n    }\n\n    .dataframe tbody tr th {\n        vertical-align: top;\n    }\n\n    .dataframe thead th {\n        text-align: right;\n    }\n</style>\n<table border=\"1\" class=\"dataframe\">\n  <thead>\n    <tr style=\"text-align: right;\">\n      <th></th>\n      <th>Genre</th>\n      <th>Age</th>\n      <th>Annual Income (k$)</th>\n      <th>Spending Score (1-100)</th>\n      <th>features</th>\n      <th>prediction</th>\n    </tr>\n    <tr>\n      <th>CustomerID</th>\n      <th></th>\n      <th></th>\n      <th></th>\n      <th></th>\n      <th></th>\n      <th></th>\n    </tr>\n  </thead>\n  <tbody>\n    <tr>\n      <th>1</th>\n      <td>Male</td>\n      <td>19</td>\n      <td>15</td>\n      <td>39</td>\n      <td>[39.0, 15.0]</td>\n      <td>4</td>\n    </tr>\n    <tr>\n      <th>2</th>\n      <td>Male</td>\n      <td>21</td>\n      <td>15</td>\n      <td>81</td>\n      <td>[81.0, 15.0]</td>\n      <td>1</td>\n    </tr>\n    <tr>\n      <th>3</th>\n      <td>Female</td>\n      <td>20</td>\n      <td>16</td>\n      <td>6</td>\n      <td>[6.0, 16.0]</td>\n      <td>4</td>\n    </tr>\n    <tr>\n      <th>4</th>\n      <td>Female</td>\n      <td>23</td>\n      <td>16</td>\n      <td>77</td>\n      <td>[77.0, 16.0]</td>\n      <td>1</td>\n    </tr>\n    <tr>\n      <th>5</th>\n      <td>Female</td>\n      <td>31</td>\n      <td>17</td>\n      <td>40</td>\n      <td>[40.0, 17.0]</td>\n      <td>4</td>\n    </tr>\n  </tbody>\n</table>\n</div>"
            ]
          }
        }
      ],
      "execution_count": null
    },
    {
      "cell_type": "code",
      "source": [
        "import matplotlib.pyplot as plt\n",
        "\n",
        "plt.figure(figsize=(12,10))\n",
        "plt.scatter(data_pandas['Annual Income (k$)'], data_pandas['Spending Score (1-100)'], c=data_pandas.prediction)\n",
        "plt.xlabel('Annual Income (k$)')\n",
        "plt.ylabel('Spending Score (1-100)')\n",
        "plt.show()"
      ],
      "metadata": {
        "id": "loTCCUEl3onc"
      },
      "outputs": [],
      "execution_count": null
    }
  ],
  "metadata": {
    "name": "desafio_bootcamp_tpd",
    "notebookId": 3192514136504053,
    "colab": {
      "name": "Desafio_bootcamp_PySpark.ipynb",
      "provenance": [],
      "include_colab_link": true
    },
    "language_info": {
      "name": "python"
    },
    "kernelspec": {
      "name": "python3",
      "display_name": "Python 3"
    },
    "gpuClass": "standard"
  },
  "nbformat": 4,
  "nbformat_minor": 0
}